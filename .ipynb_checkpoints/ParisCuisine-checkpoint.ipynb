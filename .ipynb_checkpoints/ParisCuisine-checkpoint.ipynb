{
 "cells": [
  {
   "cell_type": "markdown",
   "metadata": {},
   "source": [
    "# Capstone Project --- Analysis of Restaurants in Paris\n",
    "\n",
    "*Author: Zinan Lin*\n",
    "\n",
    "Details of introduction and conclusion can be found in the reopsitary of this notebook"
   ]
  },
  {
   "cell_type": "markdown",
   "metadata": {},
   "source": [
    "## Part 0: Import libraries"
   ]
  },
  {
   "cell_type": "markdown",
   "metadata": {},
   "source": [
    "Import all libraries here"
   ]
  },
  {
   "cell_type": "code",
   "execution_count": 700,
   "metadata": {},
   "outputs": [
    {
     "name": "stdout",
     "output_type": "stream",
     "text": [
      "Libraries imported.\n"
     ]
    }
   ],
   "source": [
    "import numpy as np\n",
    "import pandas as pd\n",
    "\n",
    "import requests # library to handle requests\n",
    "# from pandas.io.json import json_normalize # tranform JSON file into a pandas dataframe\n",
    "\n",
    "# data visualization modules\n",
    "import matplotlib\n",
    "import matplotlib.cm as cm\n",
    "import matplotlib.colors as colors\n",
    "import matplotlib.pyplot as plt\n",
    "import seaborn as sns\n",
    "\n",
    "# import k-means from clustering stage\n",
    "from sklearn.cluster import KMeans\n",
    "\n",
    "import folium # map rendering library\n",
    "\n",
    "print('Libraries imported.')"
   ]
  },
  {
   "cell_type": "markdown",
   "metadata": {},
   "source": [
    "## Part 1: Load and Clean Data "
   ]
  },
  {
   "cell_type": "markdown",
   "metadata": {},
   "source": [
    "### 1.1 Load the name of all michelin starred restaurants in Paris"
   ]
  },
  {
   "cell_type": "code",
   "execution_count": 63,
   "metadata": {},
   "outputs": [
    {
     "data": {
      "text/html": [
       "<div>\n",
       "<style scoped>\n",
       "    .dataframe tbody tr th:only-of-type {\n",
       "        vertical-align: middle;\n",
       "    }\n",
       "\n",
       "    .dataframe tbody tr th {\n",
       "        vertical-align: top;\n",
       "    }\n",
       "\n",
       "    .dataframe thead th {\n",
       "        text-align: right;\n",
       "    }\n",
       "</style>\n",
       "<table border=\"1\" class=\"dataframe\">\n",
       "  <thead>\n",
       "    <tr style=\"text-align: right;\">\n",
       "      <th></th>\n",
       "      <th>Name</th>\n",
       "      <th>Star</th>\n",
       "    </tr>\n",
       "  </thead>\n",
       "  <tbody>\n",
       "    <tr>\n",
       "      <th>0</th>\n",
       "      <td>Alain Ducasse au Plaza Athénée</td>\n",
       "      <td>3</td>\n",
       "    </tr>\n",
       "    <tr>\n",
       "      <th>1</th>\n",
       "      <td>Alléno Paris au Pavillon Ledoyen</td>\n",
       "      <td>3</td>\n",
       "    </tr>\n",
       "    <tr>\n",
       "      <th>2</th>\n",
       "      <td>Arpège</td>\n",
       "      <td>3</td>\n",
       "    </tr>\n",
       "    <tr>\n",
       "      <th>3</th>\n",
       "      <td>Épicure au Bristol</td>\n",
       "      <td>3</td>\n",
       "    </tr>\n",
       "    <tr>\n",
       "      <th>4</th>\n",
       "      <td>Guy Savoy</td>\n",
       "      <td>3</td>\n",
       "    </tr>\n",
       "  </tbody>\n",
       "</table>\n",
       "</div>"
      ],
      "text/plain": [
       "                                Name  Star\n",
       "0   Alain Ducasse au Plaza Athénée     3\n",
       "1  Alléno Paris au Pavillon Ledoyen     3\n",
       "2                            Arpège     3\n",
       "3                Épicure au Bristol     3\n",
       "4                          Guy Savoy     3"
      ]
     },
     "execution_count": 63,
     "metadata": {},
     "output_type": "execute_result"
    }
   ],
   "source": [
    "df_michelin = pd.read_excel('michelinstar.xlsx', index_col=None, header=None, names=['Name', 'Star'])\n",
    "df_michelin.head()"
   ]
  },
  {
   "cell_type": "code",
   "execution_count": 137,
   "metadata": {},
   "outputs": [
    {
     "data": {
      "text/plain": [
       "(119, 2)"
      ]
     },
     "execution_count": 137,
     "metadata": {},
     "output_type": "execute_result"
    }
   ],
   "source": [
    "df_michelin.shape"
   ]
  },
  {
   "cell_type": "markdown",
   "metadata": {},
   "source": [
    "### 1.2 Load the arrondissements data of Paris"
   ]
  },
  {
   "cell_type": "code",
   "execution_count": 508,
   "metadata": {},
   "outputs": [
    {
     "data": {
      "text/html": [
       "<div>\n",
       "<style scoped>\n",
       "    .dataframe tbody tr th:only-of-type {\n",
       "        vertical-align: middle;\n",
       "    }\n",
       "\n",
       "    .dataframe tbody tr th {\n",
       "        vertical-align: top;\n",
       "    }\n",
       "\n",
       "    .dataframe thead th {\n",
       "        text-align: right;\n",
       "    }\n",
       "</style>\n",
       "<table border=\"1\" class=\"dataframe\">\n",
       "  <thead>\n",
       "    <tr style=\"text-align: right;\">\n",
       "      <th></th>\n",
       "      <th>area_code</th>\n",
       "      <th>name</th>\n",
       "      <th>coordinates</th>\n",
       "      <th>Geometry</th>\n",
       "    </tr>\n",
       "  </thead>\n",
       "  <tbody>\n",
       "    <tr>\n",
       "      <th>0</th>\n",
       "      <td>1</td>\n",
       "      <td>Louvre</td>\n",
       "      <td>48.8625627018, 2.33644336205</td>\n",
       "      <td>{\"type\": \"Polygon\", \"coordinates\": [[[2.328007...</td>\n",
       "    </tr>\n",
       "    <tr>\n",
       "      <th>1</th>\n",
       "      <td>2</td>\n",
       "      <td>Bourse</td>\n",
       "      <td>48.8682792225, 2.34280254689</td>\n",
       "      <td>{\"type\": \"Polygon\", \"coordinates\": [[[2.351518...</td>\n",
       "    </tr>\n",
       "    <tr>\n",
       "      <th>2</th>\n",
       "      <td>3</td>\n",
       "      <td>Temple</td>\n",
       "      <td>48.86287238, 2.3600009859</td>\n",
       "      <td>{\"type\": \"Polygon\", \"coordinates\": [[[2.363828...</td>\n",
       "    </tr>\n",
       "    <tr>\n",
       "      <th>3</th>\n",
       "      <td>4</td>\n",
       "      <td>Hôtel-de-Ville</td>\n",
       "      <td>48.8543414263, 2.35762962032</td>\n",
       "      <td>{\"type\": \"Polygon\", \"coordinates\": [[[2.368512...</td>\n",
       "    </tr>\n",
       "    <tr>\n",
       "      <th>4</th>\n",
       "      <td>5</td>\n",
       "      <td>Panthéon</td>\n",
       "      <td>48.8444431505, 2.35071460958</td>\n",
       "      <td>{\"type\": \"Polygon\", \"coordinates\": [[[2.364433...</td>\n",
       "    </tr>\n",
       "    <tr>\n",
       "      <th>5</th>\n",
       "      <td>6</td>\n",
       "      <td>Luxembourg</td>\n",
       "      <td>48.8491303586, 2.33289799905</td>\n",
       "      <td>{\"type\": \"Polygon\", \"coordinates\": [[[2.344592...</td>\n",
       "    </tr>\n",
       "    <tr>\n",
       "      <th>6</th>\n",
       "      <td>7</td>\n",
       "      <td>Palais-Bourbon</td>\n",
       "      <td>48.8561744288, 2.31218769148</td>\n",
       "      <td>{\"type\": \"Polygon\", \"coordinates\": [[[2.320902...</td>\n",
       "    </tr>\n",
       "    <tr>\n",
       "      <th>7</th>\n",
       "      <td>8</td>\n",
       "      <td>Élysée</td>\n",
       "      <td>48.8727208374, 2.3125540224</td>\n",
       "      <td>{\"type\": \"Polygon\", \"coordinates\": [[[2.325836...</td>\n",
       "    </tr>\n",
       "    <tr>\n",
       "      <th>8</th>\n",
       "      <td>9</td>\n",
       "      <td>Opéra</td>\n",
       "      <td>48.8771635173, 2.33745754348</td>\n",
       "      <td>{\"type\": \"Polygon\", \"coordinates\": [[[2.339776...</td>\n",
       "    </tr>\n",
       "    <tr>\n",
       "      <th>9</th>\n",
       "      <td>10</td>\n",
       "      <td>Entrepôt</td>\n",
       "      <td>48.8761300365, 2.36072848785</td>\n",
       "      <td>{\"type\": \"Polygon\", \"coordinates\": [[[2.364685...</td>\n",
       "    </tr>\n",
       "    <tr>\n",
       "      <th>10</th>\n",
       "      <td>11</td>\n",
       "      <td>Popincourt</td>\n",
       "      <td>48.8590592213, 2.3800583082</td>\n",
       "      <td>{\"type\": \"Polygon\", \"coordinates\": [[[2.396236...</td>\n",
       "    </tr>\n",
       "    <tr>\n",
       "      <th>11</th>\n",
       "      <td>12</td>\n",
       "      <td>Reuilly</td>\n",
       "      <td>48.8349743815, 2.42132490078</td>\n",
       "      <td>{\"type\": \"Polygon\", \"coordinates\": [[[2.413879...</td>\n",
       "    </tr>\n",
       "    <tr>\n",
       "      <th>12</th>\n",
       "      <td>13</td>\n",
       "      <td>Gobelins</td>\n",
       "      <td>48.8283880317, 2.36227244042</td>\n",
       "      <td>{\"type\": \"Polygon\", \"coordinates\": [[[2.374913...</td>\n",
       "    </tr>\n",
       "    <tr>\n",
       "      <th>13</th>\n",
       "      <td>14</td>\n",
       "      <td>Observatoire</td>\n",
       "      <td>48.8292445005, 2.3265420442</td>\n",
       "      <td>{\"type\": \"Polygon\", \"coordinates\": [[[2.333806...</td>\n",
       "    </tr>\n",
       "    <tr>\n",
       "      <th>14</th>\n",
       "      <td>15</td>\n",
       "      <td>Vaugirard</td>\n",
       "      <td>48.8400853759, 2.29282582242</td>\n",
       "      <td>{\"type\": \"Polygon\", \"coordinates\": [[[2.299322...</td>\n",
       "    </tr>\n",
       "    <tr>\n",
       "      <th>15</th>\n",
       "      <td>16</td>\n",
       "      <td>Passy</td>\n",
       "      <td>48.8603921054, 2.26197078836</td>\n",
       "      <td>{\"type\": \"Polygon\", \"coordinates\": [[[2.274268...</td>\n",
       "    </tr>\n",
       "    <tr>\n",
       "      <th>16</th>\n",
       "      <td>17</td>\n",
       "      <td>Batignolles-Monceau</td>\n",
       "      <td>48.887326522, 2.30677699057</td>\n",
       "      <td>{\"type\": \"Polygon\", \"coordinates\": [[[2.295166...</td>\n",
       "    </tr>\n",
       "    <tr>\n",
       "      <th>17</th>\n",
       "      <td>18</td>\n",
       "      <td>Buttes-Montmartre</td>\n",
       "      <td>48.892569268, 2.34816051956</td>\n",
       "      <td>{\"type\": \"Polygon\", \"coordinates\": [[[2.365803...</td>\n",
       "    </tr>\n",
       "    <tr>\n",
       "      <th>18</th>\n",
       "      <td>19</td>\n",
       "      <td>Buttes-Chaumont</td>\n",
       "      <td>48.8870759966, 2.38482096015</td>\n",
       "      <td>{\"type\": \"Polygon\", \"coordinates\": [[[2.389428...</td>\n",
       "    </tr>\n",
       "    <tr>\n",
       "      <th>19</th>\n",
       "      <td>20</td>\n",
       "      <td>Ménilmontant</td>\n",
       "      <td>48.8634605789, 2.40118812928</td>\n",
       "      <td>{\"type\": \"Polygon\", \"coordinates\": [[[2.412765...</td>\n",
       "    </tr>\n",
       "  </tbody>\n",
       "</table>\n",
       "</div>"
      ],
      "text/plain": [
       "    area_code                 name                   coordinates  \\\n",
       "0           1               Louvre  48.8625627018, 2.33644336205   \n",
       "1           2               Bourse  48.8682792225, 2.34280254689   \n",
       "2           3               Temple     48.86287238, 2.3600009859   \n",
       "3           4       Hôtel-de-Ville  48.8543414263, 2.35762962032   \n",
       "4           5             Panthéon  48.8444431505, 2.35071460958   \n",
       "5           6           Luxembourg  48.8491303586, 2.33289799905   \n",
       "6           7       Palais-Bourbon  48.8561744288, 2.31218769148   \n",
       "7           8               Élysée   48.8727208374, 2.3125540224   \n",
       "8           9                Opéra  48.8771635173, 2.33745754348   \n",
       "9          10             Entrepôt  48.8761300365, 2.36072848785   \n",
       "10         11           Popincourt   48.8590592213, 2.3800583082   \n",
       "11         12              Reuilly  48.8349743815, 2.42132490078   \n",
       "12         13             Gobelins  48.8283880317, 2.36227244042   \n",
       "13         14         Observatoire   48.8292445005, 2.3265420442   \n",
       "14         15            Vaugirard  48.8400853759, 2.29282582242   \n",
       "15         16                Passy  48.8603921054, 2.26197078836   \n",
       "16         17  Batignolles-Monceau   48.887326522, 2.30677699057   \n",
       "17         18    Buttes-Montmartre   48.892569268, 2.34816051956   \n",
       "18         19      Buttes-Chaumont  48.8870759966, 2.38482096015   \n",
       "19         20         Ménilmontant  48.8634605789, 2.40118812928   \n",
       "\n",
       "                                             Geometry  \n",
       "0   {\"type\": \"Polygon\", \"coordinates\": [[[2.328007...  \n",
       "1   {\"type\": \"Polygon\", \"coordinates\": [[[2.351518...  \n",
       "2   {\"type\": \"Polygon\", \"coordinates\": [[[2.363828...  \n",
       "3   {\"type\": \"Polygon\", \"coordinates\": [[[2.368512...  \n",
       "4   {\"type\": \"Polygon\", \"coordinates\": [[[2.364433...  \n",
       "5   {\"type\": \"Polygon\", \"coordinates\": [[[2.344592...  \n",
       "6   {\"type\": \"Polygon\", \"coordinates\": [[[2.320902...  \n",
       "7   {\"type\": \"Polygon\", \"coordinates\": [[[2.325836...  \n",
       "8   {\"type\": \"Polygon\", \"coordinates\": [[[2.339776...  \n",
       "9   {\"type\": \"Polygon\", \"coordinates\": [[[2.364685...  \n",
       "10  {\"type\": \"Polygon\", \"coordinates\": [[[2.396236...  \n",
       "11  {\"type\": \"Polygon\", \"coordinates\": [[[2.413879...  \n",
       "12  {\"type\": \"Polygon\", \"coordinates\": [[[2.374913...  \n",
       "13  {\"type\": \"Polygon\", \"coordinates\": [[[2.333806...  \n",
       "14  {\"type\": \"Polygon\", \"coordinates\": [[[2.299322...  \n",
       "15  {\"type\": \"Polygon\", \"coordinates\": [[[2.274268...  \n",
       "16  {\"type\": \"Polygon\", \"coordinates\": [[[2.295166...  \n",
       "17  {\"type\": \"Polygon\", \"coordinates\": [[[2.365803...  \n",
       "18  {\"type\": \"Polygon\", \"coordinates\": [[[2.389428...  \n",
       "19  {\"type\": \"Polygon\", \"coordinates\": [[[2.412765...  "
      ]
     },
     "execution_count": 508,
     "metadata": {},
     "output_type": "execute_result"
    }
   ],
   "source": [
    "df_paris = pd.read_csv('arrondissements.csv', sep=';', header=0)\n",
    "df_paris = df_paris[['C_AR', 'L_AROFF', 'Geometry X Y', 'Geometry']].rename(\n",
    "    columns={'C_AR':'area_code', 'L_AROFF':'name', 'Geometry X Y':'coordinates'}).sort_values(by=['area_code']).reset_index(drop=True)\n",
    "df_paris"
   ]
  },
  {
   "cell_type": "markdown",
   "metadata": {},
   "source": [
    "visualize the arrondissements data"
   ]
  },
  {
   "cell_type": "code",
   "execution_count": 509,
   "metadata": {
    "scrolled": false
   },
   "outputs": [
    {
     "data": {
      "text/html": [
       "<div style=\"width:100%;\"><div style=\"position:relative;width:100%;height:0;padding-bottom:60%;\"><iframe src=\"data:text/html;charset=utf-8;base64,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\" style=\"position:absolute;width:100%;height:100%;left:0;top:0;border:none !important;\" allowfullscreen webkitallowfullscreen mozallowfullscreen></iframe></div></div>"
      ],
      "text/plain": [
       "<folium.folium.Map at 0x1a7fba0828>"
      ]
     },
     "execution_count": 509,
     "metadata": {},
     "output_type": "execute_result"
    }
   ],
   "source": [
    "paris = folium.Map([48.864716, 2.349014], zoom_start=12, tiles='cartodbpositron')\n",
    "for i in df_paris['Geometry']:\n",
    "    folium.GeoJson(i).add_to(paris)\n",
    "paris"
   ]
  },
  {
   "cell_type": "code",
   "execution_count": 510,
   "metadata": {},
   "outputs": [],
   "source": [
    "df_paris = df_paris.drop(columns=['Geometry'])"
   ]
  },
  {
   "cell_type": "markdown",
   "metadata": {},
   "source": [
    "split the coordinates column into latitude and longtitude"
   ]
  },
  {
   "cell_type": "code",
   "execution_count": 511,
   "metadata": {},
   "outputs": [
    {
     "data": {
      "text/html": [
       "<div>\n",
       "<style scoped>\n",
       "    .dataframe tbody tr th:only-of-type {\n",
       "        vertical-align: middle;\n",
       "    }\n",
       "\n",
       "    .dataframe tbody tr th {\n",
       "        vertical-align: top;\n",
       "    }\n",
       "\n",
       "    .dataframe thead th {\n",
       "        text-align: right;\n",
       "    }\n",
       "</style>\n",
       "<table border=\"1\" class=\"dataframe\">\n",
       "  <thead>\n",
       "    <tr style=\"text-align: right;\">\n",
       "      <th></th>\n",
       "      <th>area_code</th>\n",
       "      <th>name</th>\n",
       "      <th>latitude</th>\n",
       "      <th>longitude</th>\n",
       "    </tr>\n",
       "  </thead>\n",
       "  <tbody>\n",
       "    <tr>\n",
       "      <th>0</th>\n",
       "      <td>1</td>\n",
       "      <td>Louvre</td>\n",
       "      <td>48.8625627018</td>\n",
       "      <td>2.33644336205</td>\n",
       "    </tr>\n",
       "    <tr>\n",
       "      <th>1</th>\n",
       "      <td>2</td>\n",
       "      <td>Bourse</td>\n",
       "      <td>48.8682792225</td>\n",
       "      <td>2.34280254689</td>\n",
       "    </tr>\n",
       "    <tr>\n",
       "      <th>2</th>\n",
       "      <td>3</td>\n",
       "      <td>Temple</td>\n",
       "      <td>48.86287238</td>\n",
       "      <td>2.3600009859</td>\n",
       "    </tr>\n",
       "    <tr>\n",
       "      <th>3</th>\n",
       "      <td>4</td>\n",
       "      <td>Hôtel-de-Ville</td>\n",
       "      <td>48.8543414263</td>\n",
       "      <td>2.35762962032</td>\n",
       "    </tr>\n",
       "    <tr>\n",
       "      <th>4</th>\n",
       "      <td>5</td>\n",
       "      <td>Panthéon</td>\n",
       "      <td>48.8444431505</td>\n",
       "      <td>2.35071460958</td>\n",
       "    </tr>\n",
       "  </tbody>\n",
       "</table>\n",
       "</div>"
      ],
      "text/plain": [
       "   area_code            name       latitude       longitude\n",
       "0          1          Louvre  48.8625627018   2.33644336205\n",
       "1          2          Bourse  48.8682792225   2.34280254689\n",
       "2          3          Temple    48.86287238    2.3600009859\n",
       "3          4  Hôtel-de-Ville  48.8543414263   2.35762962032\n",
       "4          5        Panthéon  48.8444431505   2.35071460958"
      ]
     },
     "execution_count": 511,
     "metadata": {},
     "output_type": "execute_result"
    }
   ],
   "source": [
    "coordinates = df_paris['coordinates'].str.split(',', expand=True)\n",
    "df_paris['latitude'] = coordinates[0]\n",
    "df_paris['longitude'] = coordinates[1]\n",
    "df_paris.drop(columns=['coordinates'], inplace=True)\n",
    "df_paris.head()"
   ]
  },
  {
   "cell_type": "code",
   "execution_count": 425,
   "metadata": {},
   "outputs": [
    {
     "data": {
      "text/plain": [
       "(20, 4)"
      ]
     },
     "execution_count": 425,
     "metadata": {},
     "output_type": "execute_result"
    }
   ],
   "source": [
    "df_paris.shape"
   ]
  },
  {
   "cell_type": "markdown",
   "metadata": {},
   "source": [
    "### 1.3 Load the restaurant data"
   ]
  },
  {
   "cell_type": "markdown",
   "metadata": {},
   "source": [
    "#### 1.3.1 Load raw data"
   ]
  },
  {
   "cell_type": "code",
   "execution_count": 483,
   "metadata": {
    "scrolled": false
   },
   "outputs": [
    {
     "data": {
      "text/html": [
       "<div>\n",
       "<style scoped>\n",
       "    .dataframe tbody tr th:only-of-type {\n",
       "        vertical-align: middle;\n",
       "    }\n",
       "\n",
       "    .dataframe tbody tr th {\n",
       "        vertical-align: top;\n",
       "    }\n",
       "\n",
       "    .dataframe thead th {\n",
       "        text-align: right;\n",
       "    }\n",
       "</style>\n",
       "<table border=\"1\" class=\"dataframe\">\n",
       "  <thead>\n",
       "    <tr style=\"text-align: right;\">\n",
       "      <th></th>\n",
       "      <th>Unnamed: 0</th>\n",
       "      <th>Name</th>\n",
       "      <th>City</th>\n",
       "      <th>Cuisine Style</th>\n",
       "      <th>Ranking</th>\n",
       "      <th>Rating</th>\n",
       "      <th>Price Range</th>\n",
       "      <th>Number of Reviews</th>\n",
       "      <th>Reviews</th>\n",
       "      <th>URL_TA</th>\n",
       "      <th>ID_TA</th>\n",
       "    </tr>\n",
       "  </thead>\n",
       "  <tbody>\n",
       "    <tr>\n",
       "      <th>0</th>\n",
       "      <td>0</td>\n",
       "      <td>Martine of Martine's Table</td>\n",
       "      <td>Amsterdam</td>\n",
       "      <td>['French', 'Dutch', 'European']</td>\n",
       "      <td>1.0</td>\n",
       "      <td>5.0</td>\n",
       "      <td>\\$\\$ - \\$\\$\\$</td>\n",
       "      <td>136.0</td>\n",
       "      <td>[['Just like home', 'A Warm Welcome to Wintry ...</td>\n",
       "      <td>/Restaurant_Review-g188590-d11752080-Reviews-M...</td>\n",
       "      <td>d11752080</td>\n",
       "    </tr>\n",
       "    <tr>\n",
       "      <th>1</th>\n",
       "      <td>1</td>\n",
       "      <td>De Silveren Spiegel</td>\n",
       "      <td>Amsterdam</td>\n",
       "      <td>['Dutch', 'European', 'Vegetarian Friendly', '...</td>\n",
       "      <td>2.0</td>\n",
       "      <td>4.5</td>\n",
       "      <td>\\$\\$\\$\\$</td>\n",
       "      <td>812.0</td>\n",
       "      <td>[['Great food and staff', 'just perfect'], ['0...</td>\n",
       "      <td>/Restaurant_Review-g188590-d693419-Reviews-De_...</td>\n",
       "      <td>d693419</td>\n",
       "    </tr>\n",
       "    <tr>\n",
       "      <th>2</th>\n",
       "      <td>2</td>\n",
       "      <td>La Rive</td>\n",
       "      <td>Amsterdam</td>\n",
       "      <td>['Mediterranean', 'French', 'International', '...</td>\n",
       "      <td>3.0</td>\n",
       "      <td>4.5</td>\n",
       "      <td>\\$\\$\\$\\$</td>\n",
       "      <td>567.0</td>\n",
       "      <td>[['Satisfaction', 'Delicious old school restau...</td>\n",
       "      <td>/Restaurant_Review-g188590-d696959-Reviews-La_...</td>\n",
       "      <td>d696959</td>\n",
       "    </tr>\n",
       "    <tr>\n",
       "      <th>3</th>\n",
       "      <td>3</td>\n",
       "      <td>Vinkeles</td>\n",
       "      <td>Amsterdam</td>\n",
       "      <td>['French', 'European', 'International', 'Conte...</td>\n",
       "      <td>4.0</td>\n",
       "      <td>5.0</td>\n",
       "      <td>\\$\\$\\$\\$</td>\n",
       "      <td>564.0</td>\n",
       "      <td>[['True five star dinner', 'A superb evening o...</td>\n",
       "      <td>/Restaurant_Review-g188590-d1239229-Reviews-Vi...</td>\n",
       "      <td>d1239229</td>\n",
       "    </tr>\n",
       "    <tr>\n",
       "      <th>4</th>\n",
       "      <td>4</td>\n",
       "      <td>Librije's Zusje Amsterdam</td>\n",
       "      <td>Amsterdam</td>\n",
       "      <td>['Dutch', 'European', 'International', 'Vegeta...</td>\n",
       "      <td>5.0</td>\n",
       "      <td>4.5</td>\n",
       "      <td>\\$\\$\\$\\$</td>\n",
       "      <td>316.0</td>\n",
       "      <td>[['Best meal.... EVER', 'super food experience...</td>\n",
       "      <td>/Restaurant_Review-g188590-d6864170-Reviews-Li...</td>\n",
       "      <td>d6864170</td>\n",
       "    </tr>\n",
       "  </tbody>\n",
       "</table>\n",
       "</div>"
      ],
      "text/plain": [
       "   Unnamed: 0                        Name       City  \\\n",
       "0           0  Martine of Martine's Table  Amsterdam   \n",
       "1           1         De Silveren Spiegel  Amsterdam   \n",
       "2           2                     La Rive  Amsterdam   \n",
       "3           3                    Vinkeles  Amsterdam   \n",
       "4           4   Librije's Zusje Amsterdam  Amsterdam   \n",
       "\n",
       "                                       Cuisine Style  Ranking  Rating  \\\n",
       "0                    ['French', 'Dutch', 'European']      1.0     5.0   \n",
       "1  ['Dutch', 'European', 'Vegetarian Friendly', '...      2.0     4.5   \n",
       "2  ['Mediterranean', 'French', 'International', '...      3.0     4.5   \n",
       "3  ['French', 'European', 'International', 'Conte...      4.0     5.0   \n",
       "4  ['Dutch', 'European', 'International', 'Vegeta...      5.0     4.5   \n",
       "\n",
       "     Price Range  Number of Reviews  \\\n",
       "0  \\$\\$ - \\$\\$\\$              136.0   \n",
       "1       \\$\\$\\$\\$              812.0   \n",
       "2       \\$\\$\\$\\$              567.0   \n",
       "3       \\$\\$\\$\\$              564.0   \n",
       "4       \\$\\$\\$\\$              316.0   \n",
       "\n",
       "                                             Reviews  \\\n",
       "0  [['Just like home', 'A Warm Welcome to Wintry ...   \n",
       "1  [['Great food and staff', 'just perfect'], ['0...   \n",
       "2  [['Satisfaction', 'Delicious old school restau...   \n",
       "3  [['True five star dinner', 'A superb evening o...   \n",
       "4  [['Best meal.... EVER', 'super food experience...   \n",
       "\n",
       "                                              URL_TA      ID_TA  \n",
       "0  /Restaurant_Review-g188590-d11752080-Reviews-M...  d11752080  \n",
       "1  /Restaurant_Review-g188590-d693419-Reviews-De_...    d693419  \n",
       "2  /Restaurant_Review-g188590-d696959-Reviews-La_...    d696959  \n",
       "3  /Restaurant_Review-g188590-d1239229-Reviews-Vi...   d1239229  \n",
       "4  /Restaurant_Review-g188590-d6864170-Reviews-Li...   d6864170  "
      ]
     },
     "execution_count": 483,
     "metadata": {},
     "output_type": "execute_result"
    }
   ],
   "source": [
    "# need to convert $ so that it can be displayed\n",
    "df_raw = pd.read_csv('restaurants.csv', converters={'Price Range': lambda s: str(s.replace('$', '\\$'))})\n",
    "df_raw.head()"
   ]
  },
  {
   "cell_type": "code",
   "execution_count": 484,
   "metadata": {},
   "outputs": [
    {
     "data": {
      "text/plain": [
       "(125527, 11)"
      ]
     },
     "execution_count": 484,
     "metadata": {},
     "output_type": "execute_result"
    }
   ],
   "source": [
    "df_raw.shape"
   ]
  },
  {
   "cell_type": "markdown",
   "metadata": {},
   "source": [
    "#### 1.3.2 Select useful data"
   ]
  },
  {
   "cell_type": "markdown",
   "metadata": {},
   "source": [
    "let's only take the useful data out of the raw data"
   ]
  },
  {
   "cell_type": "code",
   "execution_count": 485,
   "metadata": {},
   "outputs": [
    {
     "data": {
      "text/html": [
       "<div>\n",
       "<style scoped>\n",
       "    .dataframe tbody tr th:only-of-type {\n",
       "        vertical-align: middle;\n",
       "    }\n",
       "\n",
       "    .dataframe tbody tr th {\n",
       "        vertical-align: top;\n",
       "    }\n",
       "\n",
       "    .dataframe thead th {\n",
       "        text-align: right;\n",
       "    }\n",
       "</style>\n",
       "<table border=\"1\" class=\"dataframe\">\n",
       "  <thead>\n",
       "    <tr style=\"text-align: right;\">\n",
       "      <th></th>\n",
       "      <th>Name</th>\n",
       "      <th>Rating</th>\n",
       "      <th>Price Range</th>\n",
       "      <th>Number of Reviews</th>\n",
       "    </tr>\n",
       "  </thead>\n",
       "  <tbody>\n",
       "    <tr>\n",
       "      <th>89397</th>\n",
       "      <td>La Meduse</td>\n",
       "      <td>5.0</td>\n",
       "      <td>\\$\\$ - \\$\\$\\$</td>\n",
       "      <td>178.0</td>\n",
       "    </tr>\n",
       "    <tr>\n",
       "      <th>89398</th>\n",
       "      <td>Le Cappiello</td>\n",
       "      <td>5.0</td>\n",
       "      <td>\\$\\$ - \\$\\$\\$</td>\n",
       "      <td>208.0</td>\n",
       "    </tr>\n",
       "    <tr>\n",
       "      <th>89399</th>\n",
       "      <td>ASPIC</td>\n",
       "      <td>5.0</td>\n",
       "      <td>\\$\\$\\$\\$</td>\n",
       "      <td>427.0</td>\n",
       "    </tr>\n",
       "    <tr>\n",
       "      <th>89400</th>\n",
       "      <td>Les Apotres de Pigalle</td>\n",
       "      <td>5.0</td>\n",
       "      <td>\\$\\$ - \\$\\$\\$</td>\n",
       "      <td>1152.0</td>\n",
       "    </tr>\n",
       "    <tr>\n",
       "      <th>89401</th>\n",
       "      <td>Epicure</td>\n",
       "      <td>5.0</td>\n",
       "      <td>\\$\\$\\$\\$</td>\n",
       "      <td>2305.0</td>\n",
       "    </tr>\n",
       "  </tbody>\n",
       "</table>\n",
       "</div>"
      ],
      "text/plain": [
       "                         Name  Rating    Price Range  Number of Reviews\n",
       "89397               La Meduse     5.0  \\$\\$ - \\$\\$\\$              178.0\n",
       "89398            Le Cappiello     5.0  \\$\\$ - \\$\\$\\$              208.0\n",
       "89399                   ASPIC     5.0       \\$\\$\\$\\$              427.0\n",
       "89400  Les Apotres de Pigalle     5.0  \\$\\$ - \\$\\$\\$             1152.0\n",
       "89401                 Epicure     5.0       \\$\\$\\$\\$             2305.0"
      ]
     },
     "execution_count": 485,
     "metadata": {},
     "output_type": "execute_result"
    }
   ],
   "source": [
    "df_restaurants = df_raw[df_raw['City'] == 'Paris'][['Name', 'Rating', 'Price Range', 'Number of Reviews']]\n",
    "df_restaurants.head()"
   ]
  },
  {
   "cell_type": "markdown",
   "metadata": {},
   "source": [
    "drop Null data since we will need to do analysis based on the data"
   ]
  },
  {
   "cell_type": "code",
   "execution_count": 486,
   "metadata": {},
   "outputs": [
    {
     "data": {
      "text/html": [
       "<div>\n",
       "<style scoped>\n",
       "    .dataframe tbody tr th:only-of-type {\n",
       "        vertical-align: middle;\n",
       "    }\n",
       "\n",
       "    .dataframe tbody tr th {\n",
       "        vertical-align: top;\n",
       "    }\n",
       "\n",
       "    .dataframe thead th {\n",
       "        text-align: right;\n",
       "    }\n",
       "</style>\n",
       "<table border=\"1\" class=\"dataframe\">\n",
       "  <thead>\n",
       "    <tr style=\"text-align: right;\">\n",
       "      <th></th>\n",
       "      <th>Name</th>\n",
       "      <th>Rating</th>\n",
       "      <th>Price Range</th>\n",
       "      <th>Number of Reviews</th>\n",
       "    </tr>\n",
       "  </thead>\n",
       "  <tbody>\n",
       "    <tr>\n",
       "      <th>0</th>\n",
       "      <td>La Meduse</td>\n",
       "      <td>5.0</td>\n",
       "      <td>\\$\\$ - \\$\\$\\$</td>\n",
       "      <td>178.0</td>\n",
       "    </tr>\n",
       "    <tr>\n",
       "      <th>1</th>\n",
       "      <td>Le Cappiello</td>\n",
       "      <td>5.0</td>\n",
       "      <td>\\$\\$ - \\$\\$\\$</td>\n",
       "      <td>208.0</td>\n",
       "    </tr>\n",
       "    <tr>\n",
       "      <th>2</th>\n",
       "      <td>ASPIC</td>\n",
       "      <td>5.0</td>\n",
       "      <td>\\$\\$\\$\\$</td>\n",
       "      <td>427.0</td>\n",
       "    </tr>\n",
       "    <tr>\n",
       "      <th>3</th>\n",
       "      <td>Les Apotres de Pigalle</td>\n",
       "      <td>5.0</td>\n",
       "      <td>\\$\\$ - \\$\\$\\$</td>\n",
       "      <td>1152.0</td>\n",
       "    </tr>\n",
       "    <tr>\n",
       "      <th>4</th>\n",
       "      <td>Epicure</td>\n",
       "      <td>5.0</td>\n",
       "      <td>\\$\\$\\$\\$</td>\n",
       "      <td>2305.0</td>\n",
       "    </tr>\n",
       "  </tbody>\n",
       "</table>\n",
       "</div>"
      ],
      "text/plain": [
       "                     Name  Rating    Price Range  Number of Reviews\n",
       "0               La Meduse     5.0  \\$\\$ - \\$\\$\\$              178.0\n",
       "1            Le Cappiello     5.0  \\$\\$ - \\$\\$\\$              208.0\n",
       "2                   ASPIC     5.0       \\$\\$\\$\\$              427.0\n",
       "3  Les Apotres de Pigalle     5.0  \\$\\$ - \\$\\$\\$             1152.0\n",
       "4                 Epicure     5.0       \\$\\$\\$\\$             2305.0"
      ]
     },
     "execution_count": 486,
     "metadata": {},
     "output_type": "execute_result"
    }
   ],
   "source": [
    "df_restaurants = df_restaurants.dropna().reset_index(drop=True)\n",
    "df_restaurants.head()"
   ]
  },
  {
   "cell_type": "code",
   "execution_count": 487,
   "metadata": {},
   "outputs": [
    {
     "data": {
      "text/plain": [
       "(13280, 4)"
      ]
     },
     "execution_count": 487,
     "metadata": {},
     "output_type": "execute_result"
    }
   ],
   "source": [
    "df_restaurants.shape"
   ]
  },
  {
   "cell_type": "markdown",
   "metadata": {},
   "source": [
    "here we noticed a negative number on rating, which should be an error, therefore we drop it"
   ]
  },
  {
   "cell_type": "code",
   "execution_count": 488,
   "metadata": {},
   "outputs": [
    {
     "data": {
      "text/plain": [
       "13260    1.0\n",
       "13265    1.0\n",
       "13259    1.0\n",
       "13268    1.0\n",
       "13276   -1.0\n",
       "Name: Rating, dtype: float64"
      ]
     },
     "execution_count": 488,
     "metadata": {},
     "output_type": "execute_result"
    }
   ],
   "source": [
    "df_restaurants['Rating'].sort_values(ascending=False).tail()"
   ]
  },
  {
   "cell_type": "code",
   "execution_count": 489,
   "metadata": {},
   "outputs": [
    {
     "data": {
      "text/plain": [
       "13268    1.0\n",
       "13250    1.0\n",
       "13249    1.0\n",
       "13267    1.0\n",
       "13263    1.0\n",
       "Name: Rating, dtype: float64"
      ]
     },
     "execution_count": 489,
     "metadata": {},
     "output_type": "execute_result"
    }
   ],
   "source": [
    "df_restaurants = df_restaurants[df_restaurants['Rating'].astype(float) > 0]\n",
    "df_restaurants['Rating'].sort_values(ascending=False).tail()"
   ]
  },
  {
   "cell_type": "code",
   "execution_count": 490,
   "metadata": {},
   "outputs": [
    {
     "data": {
      "text/plain": [
       "(13279, 4)"
      ]
     },
     "execution_count": 490,
     "metadata": {},
     "output_type": "execute_result"
    }
   ],
   "source": [
    "df_restaurants.shape"
   ]
  },
  {
   "cell_type": "markdown",
   "metadata": {},
   "source": [
    "#### 1.3.3 Data Convertion"
   ]
  },
  {
   "cell_type": "markdown",
   "metadata": {},
   "source": [
    "first we drop the ones that doesn't have a price range because it's hard to predict"
   ]
  },
  {
   "cell_type": "code",
   "execution_count": 491,
   "metadata": {},
   "outputs": [
    {
     "data": {
      "text/plain": [
       "(9281, 4)"
      ]
     },
     "execution_count": 491,
     "metadata": {},
     "output_type": "execute_result"
    }
   ],
   "source": [
    "df_restaurants = df_restaurants[df_restaurants['Price Range'] != '']\n",
    "df_restaurants.shape"
   ]
  },
  {
   "cell_type": "markdown",
   "metadata": {},
   "source": [
    "now we look at the catagories of price range"
   ]
  },
  {
   "cell_type": "code",
   "execution_count": 492,
   "metadata": {},
   "outputs": [
    {
     "data": {
      "text/plain": [
       "array(['\\\\$\\\\$ - \\\\$\\\\$\\\\$', '\\\\$\\\\$\\\\$\\\\$', '\\\\$'], dtype=object)"
      ]
     },
     "execution_count": 492,
     "metadata": {},
     "output_type": "execute_result"
    }
   ],
   "source": [
    "df_restaurants['Price Range'].unique()"
   ]
  },
  {
   "cell_type": "markdown",
   "metadata": {},
   "source": [
    "now we replace the signs with labels"
   ]
  },
  {
   "cell_type": "code",
   "execution_count": 493,
   "metadata": {},
   "outputs": [
    {
     "data": {
      "text/html": [
       "<div>\n",
       "<style scoped>\n",
       "    .dataframe tbody tr th:only-of-type {\n",
       "        vertical-align: middle;\n",
       "    }\n",
       "\n",
       "    .dataframe tbody tr th {\n",
       "        vertical-align: top;\n",
       "    }\n",
       "\n",
       "    .dataframe thead th {\n",
       "        text-align: right;\n",
       "    }\n",
       "</style>\n",
       "<table border=\"1\" class=\"dataframe\">\n",
       "  <thead>\n",
       "    <tr style=\"text-align: right;\">\n",
       "      <th></th>\n",
       "      <th>Name</th>\n",
       "      <th>Rating</th>\n",
       "      <th>Price Range</th>\n",
       "      <th>Number of Reviews</th>\n",
       "    </tr>\n",
       "  </thead>\n",
       "  <tbody>\n",
       "    <tr>\n",
       "      <th>0</th>\n",
       "      <td>La Meduse</td>\n",
       "      <td>5.0</td>\n",
       "      <td>Moderate</td>\n",
       "      <td>178.0</td>\n",
       "    </tr>\n",
       "    <tr>\n",
       "      <th>1</th>\n",
       "      <td>Le Cappiello</td>\n",
       "      <td>5.0</td>\n",
       "      <td>Moderate</td>\n",
       "      <td>208.0</td>\n",
       "    </tr>\n",
       "    <tr>\n",
       "      <th>2</th>\n",
       "      <td>ASPIC</td>\n",
       "      <td>5.0</td>\n",
       "      <td>High</td>\n",
       "      <td>427.0</td>\n",
       "    </tr>\n",
       "    <tr>\n",
       "      <th>3</th>\n",
       "      <td>Les Apotres de Pigalle</td>\n",
       "      <td>5.0</td>\n",
       "      <td>Moderate</td>\n",
       "      <td>1152.0</td>\n",
       "    </tr>\n",
       "    <tr>\n",
       "      <th>4</th>\n",
       "      <td>Epicure</td>\n",
       "      <td>5.0</td>\n",
       "      <td>High</td>\n",
       "      <td>2305.0</td>\n",
       "    </tr>\n",
       "  </tbody>\n",
       "</table>\n",
       "</div>"
      ],
      "text/plain": [
       "                     Name  Rating Price Range  Number of Reviews\n",
       "0               La Meduse     5.0    Moderate              178.0\n",
       "1            Le Cappiello     5.0    Moderate              208.0\n",
       "2                   ASPIC     5.0        High              427.0\n",
       "3  Les Apotres de Pigalle     5.0    Moderate             1152.0\n",
       "4                 Epicure     5.0        High             2305.0"
      ]
     },
     "execution_count": 493,
     "metadata": {},
     "output_type": "execute_result"
    }
   ],
   "source": [
    "df_restaurants['Price Range'] = df_restaurants['Price Range'].map({'\\\\$\\\\$ - \\\\$\\\\$\\\\$':'Moderate', '\\\\$\\\\$\\\\$\\\\$':'High', '\\\\$':'Low'})\n",
    "df_restaurants.head()"
   ]
  },
  {
   "cell_type": "code",
   "execution_count": 535,
   "metadata": {},
   "outputs": [
    {
     "data": {
      "text/plain": [
       "(9192, 3)"
      ]
     },
     "execution_count": 535,
     "metadata": {},
     "output_type": "execute_result"
    }
   ],
   "source": [
    "df_restaurants.shape"
   ]
  },
  {
   "cell_type": "markdown",
   "metadata": {},
   "source": [
    "#### 1.3.4 Duplicates"
   ]
  },
  {
   "cell_type": "markdown",
   "metadata": {},
   "source": [
    "duplication in Name can cause trouble in the future when we need to look up an entry in the table, hence we need to drop them"
   ]
  },
  {
   "cell_type": "code",
   "execution_count": 536,
   "metadata": {},
   "outputs": [
    {
     "data": {
      "text/plain": [
       "(8449, 3)"
      ]
     },
     "execution_count": 536,
     "metadata": {},
     "output_type": "execute_result"
    }
   ],
   "source": [
    "df_restaurants.drop_duplicates(subset =\"Name\", keep = False, inplace = True) \n",
    "df_restaurants.shape"
   ]
  },
  {
   "cell_type": "markdown",
   "metadata": {},
   "source": [
    "#### 1.3.5 Normalization"
   ]
  },
  {
   "cell_type": "markdown",
   "metadata": {},
   "source": [
    "calculate a Bayesian estimate of the weighted review, using $(WR) = (v ÷ (v+m)) × R + (m ÷ (v+m)) × C$"
   ]
  },
  {
   "cell_type": "markdown",
   "metadata": {},
   "source": [
    "where:\n",
    "\n",
    "R = average for the rating (mean)\n",
    "\n",
    "v = number of reviews\n",
    "\n",
    "m = minimum reviews required to be listed\n",
    "\n",
    "C = the mean reviews across the whole report"
   ]
  },
  {
   "cell_type": "markdown",
   "metadata": {},
   "source": [
    "we first look at the distribution of reviews and rating before the normalization"
   ]
  },
  {
   "cell_type": "code",
   "execution_count": 494,
   "metadata": {},
   "outputs": [
    {
     "data": {
      "text/plain": [
       "<matplotlib.axes._subplots.AxesSubplot at 0x1a72dbdd68>"
      ]
     },
     "execution_count": 494,
     "metadata": {},
     "output_type": "execute_result"
    },
    {
     "data": {
      "image/png": "[encoded data removed]",
      "text/plain": [
       "<Figure size 432x288 with 1 Axes>"
      ]
     },
     "metadata": {
      "needs_background": "light"
     },
     "output_type": "display_data"
    }
   ],
   "source": [
    "sns.distplot(df_restaurants['Number of Reviews'],hist=False, rug=True)"
   ]
  },
  {
   "cell_type": "code",
   "execution_count": 495,
   "metadata": {},
   "outputs": [
    {
     "data": {
      "text/plain": [
       "Text(0.5, 1.0, 'Review distribution before Normalization')"
      ]
     },
     "execution_count": 495,
     "metadata": {},
     "output_type": "execute_result"
    },
    {
     "data": {
      "image/png": "[encoded data removed]",
      "text/plain": [
       "<Figure size 432x288 with 1 Axes>"
      ]
     },
     "metadata": {
      "needs_background": "light"
     },
     "output_type": "display_data"
    }
   ],
   "source": [
    "plt.hist(df_restaurants['Rating'])\n",
    "plt.title('Review distribution before Normalization')"
   ]
  },
  {
   "cell_type": "markdown",
   "metadata": {},
   "source": [
    "we do the normalization and try again"
   ]
  },
  {
   "cell_type": "markdown",
   "metadata": {},
   "source": [
    "25 is a magic number which in this method of mormalization gives the largest weighted review under 100"
   ]
  },
  {
   "cell_type": "code",
   "execution_count": 496,
   "metadata": {},
   "outputs": [],
   "source": [
    "df_restaurants = df_restaurants[df_restaurants['Number of Reviews'] > 2]"
   ]
  },
  {
   "cell_type": "code",
   "execution_count": 497,
   "metadata": {},
   "outputs": [],
   "source": [
    "R = df_restaurants['Rating']\n",
    "m = df_restaurants['Number of Reviews'].min()\n",
    "C = df_restaurants['Rating'].min()\n",
    "v = df_restaurants['Number of Reviews']\n",
    "\n",
    "norm = (v/(v+m))*R + (m/(v+m))*C"
   ]
  },
  {
   "cell_type": "code",
   "execution_count": 502,
   "metadata": {},
   "outputs": [
    {
     "data": {
      "text/plain": [
       "Text(0.5, 1.0, 'Review Distribution after Normalization')"
      ]
     },
     "execution_count": 502,
     "metadata": {},
     "output_type": "execute_result"
    },
    {
     "data": {
      "image/png": "[encoded data removed]",
      "text/plain": [
       "<Figure size 432x288 with 1 Axes>"
      ]
     },
     "metadata": {
      "needs_background": "light"
     },
     "output_type": "display_data"
    }
   ],
   "source": [
    "plt.hist(norm)\n",
    "plt.title('Review Distribution after Normalization')"
   ]
  },
  {
   "cell_type": "code",
   "execution_count": 499,
   "metadata": {},
   "outputs": [
    {
     "data": {
      "text/html": [
       "<div>\n",
       "<style scoped>\n",
       "    .dataframe tbody tr th:only-of-type {\n",
       "        vertical-align: middle;\n",
       "    }\n",
       "\n",
       "    .dataframe tbody tr th {\n",
       "        vertical-align: top;\n",
       "    }\n",
       "\n",
       "    .dataframe thead th {\n",
       "        text-align: right;\n",
       "    }\n",
       "</style>\n",
       "<table border=\"1\" class=\"dataframe\">\n",
       "  <thead>\n",
       "    <tr style=\"text-align: right;\">\n",
       "      <th></th>\n",
       "      <th>Name</th>\n",
       "      <th>Rating</th>\n",
       "      <th>Price Range</th>\n",
       "      <th>Number of Reviews</th>\n",
       "      <th>Review</th>\n",
       "    </tr>\n",
       "  </thead>\n",
       "  <tbody>\n",
       "    <tr>\n",
       "      <th>0</th>\n",
       "      <td>La Meduse</td>\n",
       "      <td>5.0</td>\n",
       "      <td>Moderate</td>\n",
       "      <td>178.0</td>\n",
       "      <td>4.93</td>\n",
       "    </tr>\n",
       "    <tr>\n",
       "      <th>1</th>\n",
       "      <td>Le Cappiello</td>\n",
       "      <td>5.0</td>\n",
       "      <td>Moderate</td>\n",
       "      <td>208.0</td>\n",
       "      <td>4.94</td>\n",
       "    </tr>\n",
       "    <tr>\n",
       "      <th>2</th>\n",
       "      <td>ASPIC</td>\n",
       "      <td>5.0</td>\n",
       "      <td>High</td>\n",
       "      <td>427.0</td>\n",
       "      <td>4.97</td>\n",
       "    </tr>\n",
       "    <tr>\n",
       "      <th>3</th>\n",
       "      <td>Les Apotres de Pigalle</td>\n",
       "      <td>5.0</td>\n",
       "      <td>Moderate</td>\n",
       "      <td>1152.0</td>\n",
       "      <td>4.99</td>\n",
       "    </tr>\n",
       "    <tr>\n",
       "      <th>4</th>\n",
       "      <td>Epicure</td>\n",
       "      <td>5.0</td>\n",
       "      <td>High</td>\n",
       "      <td>2305.0</td>\n",
       "      <td>4.99</td>\n",
       "    </tr>\n",
       "  </tbody>\n",
       "</table>\n",
       "</div>"
      ],
      "text/plain": [
       "                     Name  Rating Price Range  Number of Reviews  Review\n",
       "0               La Meduse     5.0    Moderate              178.0    4.93\n",
       "1            Le Cappiello     5.0    Moderate              208.0    4.94\n",
       "2                   ASPIC     5.0        High              427.0    4.97\n",
       "3  Les Apotres de Pigalle     5.0    Moderate             1152.0    4.99\n",
       "4                 Epicure     5.0        High             2305.0    4.99"
      ]
     },
     "execution_count": 499,
     "metadata": {},
     "output_type": "execute_result"
    }
   ],
   "source": [
    "df_restaurants['Review'] = norm.round(2)\n",
    "df_restaurants.head()"
   ]
  },
  {
   "cell_type": "code",
   "execution_count": 500,
   "metadata": {},
   "outputs": [
    {
     "data": {
      "text/html": [
       "<div>\n",
       "<style scoped>\n",
       "    .dataframe tbody tr th:only-of-type {\n",
       "        vertical-align: middle;\n",
       "    }\n",
       "\n",
       "    .dataframe tbody tr th {\n",
       "        vertical-align: top;\n",
       "    }\n",
       "\n",
       "    .dataframe thead th {\n",
       "        text-align: right;\n",
       "    }\n",
       "</style>\n",
       "<table border=\"1\" class=\"dataframe\">\n",
       "  <thead>\n",
       "    <tr style=\"text-align: right;\">\n",
       "      <th></th>\n",
       "      <th>Name</th>\n",
       "      <th>Price Range</th>\n",
       "      <th>Review</th>\n",
       "    </tr>\n",
       "  </thead>\n",
       "  <tbody>\n",
       "    <tr>\n",
       "      <th>0</th>\n",
       "      <td>La Meduse</td>\n",
       "      <td>Moderate</td>\n",
       "      <td>4.93</td>\n",
       "    </tr>\n",
       "    <tr>\n",
       "      <th>1</th>\n",
       "      <td>Le Cappiello</td>\n",
       "      <td>Moderate</td>\n",
       "      <td>4.94</td>\n",
       "    </tr>\n",
       "    <tr>\n",
       "      <th>2</th>\n",
       "      <td>ASPIC</td>\n",
       "      <td>High</td>\n",
       "      <td>4.97</td>\n",
       "    </tr>\n",
       "    <tr>\n",
       "      <th>3</th>\n",
       "      <td>Les Apotres de Pigalle</td>\n",
       "      <td>Moderate</td>\n",
       "      <td>4.99</td>\n",
       "    </tr>\n",
       "    <tr>\n",
       "      <th>4</th>\n",
       "      <td>Epicure</td>\n",
       "      <td>High</td>\n",
       "      <td>4.99</td>\n",
       "    </tr>\n",
       "  </tbody>\n",
       "</table>\n",
       "</div>"
      ],
      "text/plain": [
       "                     Name Price Range  Review\n",
       "0               La Meduse    Moderate    4.93\n",
       "1            Le Cappiello    Moderate    4.94\n",
       "2                   ASPIC        High    4.97\n",
       "3  Les Apotres de Pigalle    Moderate    4.99\n",
       "4                 Epicure        High    4.99"
      ]
     },
     "execution_count": 500,
     "metadata": {},
     "output_type": "execute_result"
    }
   ],
   "source": [
    "df_restaurants = df_restaurants.drop(columns=['Rating', 'Number of Reviews'])\n",
    "df_restaurants.head()"
   ]
  },
  {
   "cell_type": "code",
   "execution_count": 559,
   "metadata": {},
   "outputs": [
    {
     "data": {
      "text/plain": [
       "(8449, 3)"
      ]
     },
     "execution_count": 559,
     "metadata": {},
     "output_type": "execute_result"
    }
   ],
   "source": [
    "df_restaurants.shape"
   ]
  },
  {
   "cell_type": "markdown",
   "metadata": {},
   "source": [
    "## Part 2: Using Foursquare to get restaurants in each arrondissement"
   ]
  },
  {
   "cell_type": "markdown",
   "metadata": {},
   "source": [
    "Foursquare credentials"
   ]
  },
  {
   "cell_type": "code",
   "execution_count": 503,
   "metadata": {},
   "outputs": [],
   "source": [
    "CLIENT_ID = '4B04XQ1N4TVYTAWAGPRRYQITQGVWQALT1SOBPH3CSSSV0HNY' # your Foursquare ID\n",
    "CLIENT_SECRET = '4HYWBMHSPGOS2CLEHPY4AWZDMGFJJNKKJM0E5JHPHXOANUHC' # your Foursquare Secret\n",
    "VERSION = '20190519' # Foursquare API version"
   ]
  },
  {
   "cell_type": "markdown",
   "metadata": {},
   "source": [
    "define a function that fetch data from the API"
   ]
  },
  {
   "cell_type": "code",
   "execution_count": 545,
   "metadata": {},
   "outputs": [],
   "source": [
    "def getNearbyVenues(names, latitudes, longitudes, radius=500, LIMIT=50):\n",
    "    \n",
    "    venues_list=[]\n",
    "    food = '4d4b7105d754a06374d81259'  # catagory for food\n",
    "    intent = 'browse'\n",
    "    \n",
    "    for name, lat, lng in zip(names, latitudes, longitudes):\n",
    "        print(name)\n",
    "            \n",
    "        # create the API request URL\n",
    "        url = 'https://api.foursquare.com/v2/venues/search?&client_id={}&client_secret={}&v={}&ll={},{}&intent={}&radius={}&limit={}&categoryId={}'.format(\n",
    "            CLIENT_ID, \n",
    "            CLIENT_SECRET, \n",
    "            VERSION, \n",
    "            lat, \n",
    "            lng, \n",
    "            intent,\n",
    "            radius, \n",
    "            LIMIT,\n",
    "            food\n",
    "        )\n",
    "        \n",
    "        # make the GET request\n",
    "        results = requests.get(url).json()[\"response\"][\"venues\"]\n",
    "        \n",
    "        # return only relevant information for each nearby venue\n",
    "        venues_list.append([(\n",
    "            name, \n",
    "            lat, \n",
    "            lng, \n",
    "            v['name'], \n",
    "            v['location']['lat'], \n",
    "            v['location']['lng']\n",
    "        ) for v in results])\n",
    "\n",
    "    nearby_venues = pd.DataFrame([item for venue_list in venues_list for item in venue_list])\n",
    "    nearby_venues.columns = ['Neighborhood', \n",
    "                  'Neighborhood Latitude', \n",
    "                  'Neighborhood Longitude', \n",
    "                  'Venue', \n",
    "                  'Venue Latitude', \n",
    "                  'Venue Longitude']\n",
    "    \n",
    "    return(nearby_venues)"
   ]
  },
  {
   "cell_type": "markdown",
   "metadata": {},
   "source": [
    "define a dataframe for restaurants based on arrondissement"
   ]
  },
  {
   "cell_type": "code",
   "execution_count": 546,
   "metadata": {},
   "outputs": [
    {
     "name": "stdout",
     "output_type": "stream",
     "text": [
      "Louvre\n",
      "Bourse\n",
      "Temple\n",
      "Hôtel-de-Ville\n",
      "Panthéon\n",
      "Luxembourg\n",
      "Palais-Bourbon\n",
      "Élysée\n",
      "Opéra\n",
      "Entrepôt\n",
      "Popincourt\n",
      "Reuilly\n",
      "Gobelins\n",
      "Observatoire\n",
      "Vaugirard\n",
      "Passy\n",
      "Batignolles-Monceau\n",
      "Buttes-Montmartre\n",
      "Buttes-Chaumont\n",
      "Ménilmontant\n"
     ]
    },
    {
     "data": {
      "text/html": [
       "<div>\n",
       "<style scoped>\n",
       "    .dataframe tbody tr th:only-of-type {\n",
       "        vertical-align: middle;\n",
       "    }\n",
       "\n",
       "    .dataframe tbody tr th {\n",
       "        vertical-align: top;\n",
       "    }\n",
       "\n",
       "    .dataframe thead th {\n",
       "        text-align: right;\n",
       "    }\n",
       "</style>\n",
       "<table border=\"1\" class=\"dataframe\">\n",
       "  <thead>\n",
       "    <tr style=\"text-align: right;\">\n",
       "      <th></th>\n",
       "      <th>Neighborhood</th>\n",
       "      <th>Neighborhood Latitude</th>\n",
       "      <th>Neighborhood Longitude</th>\n",
       "      <th>Venue</th>\n",
       "      <th>Venue Latitude</th>\n",
       "      <th>Venue Longitude</th>\n",
       "    </tr>\n",
       "  </thead>\n",
       "  <tbody>\n",
       "    <tr>\n",
       "      <th>0</th>\n",
       "      <td>Louvre</td>\n",
       "      <td>48.8625627018</td>\n",
       "      <td>2.33644336205</td>\n",
       "      <td>Café Marly</td>\n",
       "      <td>48.861740</td>\n",
       "      <td>2.335646</td>\n",
       "    </tr>\n",
       "    <tr>\n",
       "      <th>1</th>\n",
       "      <td>Louvre</td>\n",
       "      <td>48.8625627018</td>\n",
       "      <td>2.33644336205</td>\n",
       "      <td>LouLou</td>\n",
       "      <td>48.862804</td>\n",
       "      <td>2.333500</td>\n",
       "    </tr>\n",
       "    <tr>\n",
       "      <th>2</th>\n",
       "      <td>Louvre</td>\n",
       "      <td>48.8625627018</td>\n",
       "      <td>2.33644336205</td>\n",
       "      <td>Le Nemours</td>\n",
       "      <td>48.863150</td>\n",
       "      <td>2.336550</td>\n",
       "    </tr>\n",
       "    <tr>\n",
       "      <th>3</th>\n",
       "      <td>Louvre</td>\n",
       "      <td>48.8625627018</td>\n",
       "      <td>2.33644336205</td>\n",
       "      <td>Le Corona</td>\n",
       "      <td>48.859029</td>\n",
       "      <td>2.340100</td>\n",
       "    </tr>\n",
       "    <tr>\n",
       "      <th>4</th>\n",
       "      <td>Louvre</td>\n",
       "      <td>48.8625627018</td>\n",
       "      <td>2.33644336205</td>\n",
       "      <td>Café RUC</td>\n",
       "      <td>48.863083</td>\n",
       "      <td>2.335545</td>\n",
       "    </tr>\n",
       "  </tbody>\n",
       "</table>\n",
       "</div>"
      ],
      "text/plain": [
       "  Neighborhood Neighborhood Latitude Neighborhood Longitude       Venue  \\\n",
       "0       Louvre         48.8625627018          2.33644336205  Café Marly   \n",
       "1       Louvre         48.8625627018          2.33644336205      LouLou   \n",
       "2       Louvre         48.8625627018          2.33644336205  Le Nemours   \n",
       "3       Louvre         48.8625627018          2.33644336205   Le Corona   \n",
       "4       Louvre         48.8625627018          2.33644336205    Café RUC   \n",
       "\n",
       "   Venue Latitude  Venue Longitude  \n",
       "0       48.861740         2.335646  \n",
       "1       48.862804         2.333500  \n",
       "2       48.863150         2.336550  \n",
       "3       48.859029         2.340100  \n",
       "4       48.863083         2.335545  "
      ]
     },
     "execution_count": 546,
     "metadata": {},
     "output_type": "execute_result"
    }
   ],
   "source": [
    "df_venues = getNearbyVenues(names = df_paris['name'],\n",
    "                                  latitudes = df_paris['latitude'],\n",
    "                                 longitudes = df_paris['longitude'])\n",
    "df_venues.head()"
   ]
  },
  {
   "cell_type": "code",
   "execution_count": 547,
   "metadata": {},
   "outputs": [
    {
     "data": {
      "text/plain": [
       "(750, 6)"
      ]
     },
     "execution_count": 547,
     "metadata": {},
     "output_type": "execute_result"
    }
   ],
   "source": [
    "df_venues.shape"
   ]
  },
  {
   "cell_type": "markdown",
   "metadata": {},
   "source": [
    "## Part 3: Combine dataframes for the final dataframe to analyze"
   ]
  },
  {
   "cell_type": "markdown",
   "metadata": {},
   "source": [
    "merge michelin starred restaurants with details to add a label called \"michelin\""
   ]
  },
  {
   "cell_type": "code",
   "execution_count": 576,
   "metadata": {},
   "outputs": [
    {
     "data": {
      "text/html": [
       "<div>\n",
       "<style scoped>\n",
       "    .dataframe tbody tr th:only-of-type {\n",
       "        vertical-align: middle;\n",
       "    }\n",
       "\n",
       "    .dataframe tbody tr th {\n",
       "        vertical-align: top;\n",
       "    }\n",
       "\n",
       "    .dataframe thead th {\n",
       "        text-align: right;\n",
       "    }\n",
       "</style>\n",
       "<table border=\"1\" class=\"dataframe\">\n",
       "  <thead>\n",
       "    <tr style=\"text-align: right;\">\n",
       "      <th></th>\n",
       "      <th>Name</th>\n",
       "      <th>Price Range</th>\n",
       "      <th>Review</th>\n",
       "      <th>Michelin</th>\n",
       "    </tr>\n",
       "  </thead>\n",
       "  <tbody>\n",
       "    <tr>\n",
       "      <th>0</th>\n",
       "      <td>Le Cinq</td>\n",
       "      <td>High</td>\n",
       "      <td>4.49</td>\n",
       "      <td>yes</td>\n",
       "    </tr>\n",
       "    <tr>\n",
       "      <th>1</th>\n",
       "      <td>Pierre Gagnaire</td>\n",
       "      <td>High</td>\n",
       "      <td>4.49</td>\n",
       "      <td>yes</td>\n",
       "    </tr>\n",
       "    <tr>\n",
       "      <th>2</th>\n",
       "      <td>Le Clarence</td>\n",
       "      <td>High</td>\n",
       "      <td>4.42</td>\n",
       "      <td>yes</td>\n",
       "    </tr>\n",
       "    <tr>\n",
       "      <th>3</th>\n",
       "      <td>Le Gabriel</td>\n",
       "      <td>High</td>\n",
       "      <td>4.47</td>\n",
       "      <td>yes</td>\n",
       "    </tr>\n",
       "    <tr>\n",
       "      <th>4</th>\n",
       "      <td>Maison Rostang</td>\n",
       "      <td>High</td>\n",
       "      <td>4.47</td>\n",
       "      <td>yes</td>\n",
       "    </tr>\n",
       "  </tbody>\n",
       "</table>\n",
       "</div>"
      ],
      "text/plain": [
       "              Name Price Range  Review Michelin\n",
       "0          Le Cinq        High    4.49      yes\n",
       "1  Pierre Gagnaire        High    4.49      yes\n",
       "2      Le Clarence        High    4.42      yes\n",
       "3       Le Gabriel        High    4.47      yes\n",
       "4   Maison Rostang        High    4.47      yes"
      ]
     },
     "execution_count": 576,
     "metadata": {},
     "output_type": "execute_result"
    }
   ],
   "source": [
    "df_detail = pd.merge(df_michelin, df_restaurants, how='right')\n",
    "df_detail['Michelin'] = np.where(df_detail['Star']>0, 'yes', 'no')\n",
    "df_detail = df_detail.drop('Star',1)\n",
    "df_detail.head()"
   ]
  },
  {
   "cell_type": "markdown",
   "metadata": {},
   "source": [
    "merge restaurant names with details"
   ]
  },
  {
   "cell_type": "code",
   "execution_count": 578,
   "metadata": {},
   "outputs": [
    {
     "data": {
      "text/html": [
       "<div>\n",
       "<style scoped>\n",
       "    .dataframe tbody tr th:only-of-type {\n",
       "        vertical-align: middle;\n",
       "    }\n",
       "\n",
       "    .dataframe tbody tr th {\n",
       "        vertical-align: top;\n",
       "    }\n",
       "\n",
       "    .dataframe thead th {\n",
       "        text-align: right;\n",
       "    }\n",
       "</style>\n",
       "<table border=\"1\" class=\"dataframe\">\n",
       "  <thead>\n",
       "    <tr style=\"text-align: right;\">\n",
       "      <th></th>\n",
       "      <th>Neighborhood</th>\n",
       "      <th>Neighborhood Latitude</th>\n",
       "      <th>Neighborhood Longitude</th>\n",
       "      <th>Venue</th>\n",
       "      <th>Venue Latitude</th>\n",
       "      <th>Venue Longitude</th>\n",
       "      <th>Name</th>\n",
       "      <th>Price Range</th>\n",
       "      <th>Review</th>\n",
       "      <th>Michelin</th>\n",
       "    </tr>\n",
       "  </thead>\n",
       "  <tbody>\n",
       "    <tr>\n",
       "      <th>0</th>\n",
       "      <td>Louvre</td>\n",
       "      <td>48.8625627018</td>\n",
       "      <td>2.33644336205</td>\n",
       "      <td>Le Nemours</td>\n",
       "      <td>48.863150</td>\n",
       "      <td>2.336550</td>\n",
       "      <td>Le Nemours</td>\n",
       "      <td>Moderate</td>\n",
       "      <td>3.97</td>\n",
       "      <td>no</td>\n",
       "    </tr>\n",
       "    <tr>\n",
       "      <th>1</th>\n",
       "      <td>Louvre</td>\n",
       "      <td>48.8625627018</td>\n",
       "      <td>2.33644336205</td>\n",
       "      <td>Le Fumoir</td>\n",
       "      <td>48.860341</td>\n",
       "      <td>2.340647</td>\n",
       "      <td>Le Fumoir</td>\n",
       "      <td>Moderate</td>\n",
       "      <td>3.99</td>\n",
       "      <td>no</td>\n",
       "    </tr>\n",
       "    <tr>\n",
       "      <th>2</th>\n",
       "      <td>Louvre</td>\n",
       "      <td>48.8625627018</td>\n",
       "      <td>2.33644336205</td>\n",
       "      <td>Sanukiya</td>\n",
       "      <td>48.864713</td>\n",
       "      <td>2.334059</td>\n",
       "      <td>Sanukiya</td>\n",
       "      <td>Moderate</td>\n",
       "      <td>4.48</td>\n",
       "      <td>no</td>\n",
       "    </tr>\n",
       "    <tr>\n",
       "      <th>3</th>\n",
       "      <td>Louvre</td>\n",
       "      <td>48.8625627018</td>\n",
       "      <td>2.33644336205</td>\n",
       "      <td>Bistrot Victoires</td>\n",
       "      <td>48.865523</td>\n",
       "      <td>2.340365</td>\n",
       "      <td>Bistrot Victoires</td>\n",
       "      <td>Low</td>\n",
       "      <td>3.99</td>\n",
       "      <td>no</td>\n",
       "    </tr>\n",
       "    <tr>\n",
       "      <th>4</th>\n",
       "      <td>Bourse</td>\n",
       "      <td>48.8682792225</td>\n",
       "      <td>2.34280254689</td>\n",
       "      <td>Bistrot Victoires</td>\n",
       "      <td>48.865523</td>\n",
       "      <td>2.340365</td>\n",
       "      <td>Bistrot Victoires</td>\n",
       "      <td>Low</td>\n",
       "      <td>3.99</td>\n",
       "      <td>no</td>\n",
       "    </tr>\n",
       "  </tbody>\n",
       "</table>\n",
       "</div>"
      ],
      "text/plain": [
       "  Neighborhood Neighborhood Latitude Neighborhood Longitude  \\\n",
       "0       Louvre         48.8625627018          2.33644336205   \n",
       "1       Louvre         48.8625627018          2.33644336205   \n",
       "2       Louvre         48.8625627018          2.33644336205   \n",
       "3       Louvre         48.8625627018          2.33644336205   \n",
       "4       Bourse         48.8682792225          2.34280254689   \n",
       "\n",
       "               Venue  Venue Latitude  Venue Longitude               Name  \\\n",
       "0         Le Nemours       48.863150         2.336550         Le Nemours   \n",
       "1          Le Fumoir       48.860341         2.340647          Le Fumoir   \n",
       "2           Sanukiya       48.864713         2.334059           Sanukiya   \n",
       "3  Bistrot Victoires       48.865523         2.340365  Bistrot Victoires   \n",
       "4  Bistrot Victoires       48.865523         2.340365  Bistrot Victoires   \n",
       "\n",
       "  Price Range  Review Michelin  \n",
       "0    Moderate    3.97       no  \n",
       "1    Moderate    3.99       no  \n",
       "2    Moderate    4.48       no  \n",
       "3         Low    3.99       no  \n",
       "4         Low    3.99       no  "
      ]
     },
     "execution_count": 578,
     "metadata": {},
     "output_type": "execute_result"
    }
   ],
   "source": [
    "df_parisCuisine = pd.merge(df_venues, df_detail, how='inner', left_on='Venue', right_on='Name')\n",
    "df_parisCuisine.head()"
   ]
  },
  {
   "cell_type": "code",
   "execution_count": 579,
   "metadata": {},
   "outputs": [
    {
     "data": {
      "text/plain": [
       "(229, 10)"
      ]
     },
     "execution_count": 579,
     "metadata": {},
     "output_type": "execute_result"
    }
   ],
   "source": [
    "df_parisCuisine.shape"
   ]
  },
  {
   "cell_type": "code",
   "execution_count": 580,
   "metadata": {},
   "outputs": [
    {
     "data": {
      "text/html": [
       "<div>\n",
       "<style scoped>\n",
       "    .dataframe tbody tr th:only-of-type {\n",
       "        vertical-align: middle;\n",
       "    }\n",
       "\n",
       "    .dataframe tbody tr th {\n",
       "        vertical-align: top;\n",
       "    }\n",
       "\n",
       "    .dataframe thead th {\n",
       "        text-align: right;\n",
       "    }\n",
       "</style>\n",
       "<table border=\"1\" class=\"dataframe\">\n",
       "  <thead>\n",
       "    <tr style=\"text-align: right;\">\n",
       "      <th></th>\n",
       "      <th>Neighborhood</th>\n",
       "      <th>Neighborhood Latitude</th>\n",
       "      <th>Neighborhood Longitude</th>\n",
       "      <th>Venue Latitude</th>\n",
       "      <th>Venue Longitude</th>\n",
       "      <th>Name</th>\n",
       "      <th>Price Range</th>\n",
       "      <th>Review</th>\n",
       "      <th>Michelin</th>\n",
       "    </tr>\n",
       "  </thead>\n",
       "  <tbody>\n",
       "    <tr>\n",
       "      <th>0</th>\n",
       "      <td>Louvre</td>\n",
       "      <td>48.8625627018</td>\n",
       "      <td>2.33644336205</td>\n",
       "      <td>48.863150</td>\n",
       "      <td>2.336550</td>\n",
       "      <td>Le Nemours</td>\n",
       "      <td>Moderate</td>\n",
       "      <td>3.97</td>\n",
       "      <td>no</td>\n",
       "    </tr>\n",
       "    <tr>\n",
       "      <th>1</th>\n",
       "      <td>Louvre</td>\n",
       "      <td>48.8625627018</td>\n",
       "      <td>2.33644336205</td>\n",
       "      <td>48.860341</td>\n",
       "      <td>2.340647</td>\n",
       "      <td>Le Fumoir</td>\n",
       "      <td>Moderate</td>\n",
       "      <td>3.99</td>\n",
       "      <td>no</td>\n",
       "    </tr>\n",
       "    <tr>\n",
       "      <th>2</th>\n",
       "      <td>Louvre</td>\n",
       "      <td>48.8625627018</td>\n",
       "      <td>2.33644336205</td>\n",
       "      <td>48.864713</td>\n",
       "      <td>2.334059</td>\n",
       "      <td>Sanukiya</td>\n",
       "      <td>Moderate</td>\n",
       "      <td>4.48</td>\n",
       "      <td>no</td>\n",
       "    </tr>\n",
       "    <tr>\n",
       "      <th>3</th>\n",
       "      <td>Louvre</td>\n",
       "      <td>48.8625627018</td>\n",
       "      <td>2.33644336205</td>\n",
       "      <td>48.865523</td>\n",
       "      <td>2.340365</td>\n",
       "      <td>Bistrot Victoires</td>\n",
       "      <td>Low</td>\n",
       "      <td>3.99</td>\n",
       "      <td>no</td>\n",
       "    </tr>\n",
       "    <tr>\n",
       "      <th>4</th>\n",
       "      <td>Bourse</td>\n",
       "      <td>48.8682792225</td>\n",
       "      <td>2.34280254689</td>\n",
       "      <td>48.865523</td>\n",
       "      <td>2.340365</td>\n",
       "      <td>Bistrot Victoires</td>\n",
       "      <td>Low</td>\n",
       "      <td>3.99</td>\n",
       "      <td>no</td>\n",
       "    </tr>\n",
       "  </tbody>\n",
       "</table>\n",
       "</div>"
      ],
      "text/plain": [
       "  Neighborhood Neighborhood Latitude Neighborhood Longitude  Venue Latitude  \\\n",
       "0       Louvre         48.8625627018          2.33644336205       48.863150   \n",
       "1       Louvre         48.8625627018          2.33644336205       48.860341   \n",
       "2       Louvre         48.8625627018          2.33644336205       48.864713   \n",
       "3       Louvre         48.8625627018          2.33644336205       48.865523   \n",
       "4       Bourse         48.8682792225          2.34280254689       48.865523   \n",
       "\n",
       "   Venue Longitude               Name Price Range  Review Michelin  \n",
       "0         2.336550         Le Nemours    Moderate    3.97       no  \n",
       "1         2.340647          Le Fumoir    Moderate    3.99       no  \n",
       "2         2.334059           Sanukiya    Moderate    4.48       no  \n",
       "3         2.340365  Bistrot Victoires         Low    3.99       no  \n",
       "4         2.340365  Bistrot Victoires         Low    3.99       no  "
      ]
     },
     "execution_count": 580,
     "metadata": {},
     "output_type": "execute_result"
    }
   ],
   "source": [
    "df_parisCuisine = df_parisCuisine.drop('Venue',1)\n",
    "df_parisCuisine.head()"
   ]
  },
  {
   "cell_type": "code",
   "execution_count": 581,
   "metadata": {},
   "outputs": [
    {
     "data": {
      "text/plain": [
       "(229, 9)"
      ]
     },
     "execution_count": 581,
     "metadata": {},
     "output_type": "execute_result"
    }
   ],
   "source": [
    "df_parisCuisine.shape"
   ]
  },
  {
   "cell_type": "markdown",
   "metadata": {},
   "source": [
    "## Part 4: Data Visualization"
   ]
  },
  {
   "cell_type": "markdown",
   "metadata": {},
   "source": [
    "we first look at the rating of restaurants in different arrondissements"
   ]
  },
  {
   "cell_type": "code",
   "execution_count": 715,
   "metadata": {},
   "outputs": [
    {
     "data": {
      "text/plain": [
       "Text(0.5, 0, 'Arrondissement')"
      ]
     },
     "execution_count": 715,
     "metadata": {},
     "output_type": "execute_result"
    },
    {
     "data": {
      "image/png": "[encoded data removed]",
      "text/plain": [
       "<Figure size 2160x1440 with 1 Axes>"
      ]
     },
     "metadata": {},
     "output_type": "display_data"
    }
   ],
   "source": [
    "median_review = df_parisCuisine.groupby(['Neighborhood'])['Review'].median().reset_index().sort_values(by='Review')\n",
    "\n",
    "sns.set(rc={'figure.figsize':(30,20),\"font.size\":30,\"axes.titlesize\":40,\"axes.labelsize\":50})\n",
    "ax = sns.boxplot(data=df_parisCuisine[['Neighborhood', 'Review']], x = 'Neighborhood', y = 'Review', order=median_review['Neighborhood'])\n",
    "ax.set_title('Review of Restaurat in each Arrondissement')\n",
    "ax.set_xlabel('Arrondissement')"
   ]
  },
  {
   "cell_type": "code",
   "execution_count": 680,
   "metadata": {},
   "outputs": [
    {
     "data": {
      "text/plain": [
       "5     3.465\n",
       "11    3.860\n",
       "17    3.865\n",
       "2     3.890\n",
       "8     3.910\n",
       "Name: Review, dtype: float64"
      ]
     },
     "execution_count": 680,
     "metadata": {},
     "output_type": "execute_result"
    }
   ],
   "source": [
    "median_review['Review'].head()\n"
   ]
  },
  {
   "cell_type": "markdown",
   "metadata": {},
   "source": [
    "now let's look at the percentage of michelin starred restaurants in each arrondissement"
   ]
  },
  {
   "cell_type": "code",
   "execution_count": 723,
   "metadata": {},
   "outputs": [
    {
     "data": {
      "text/plain": [
       "Text(0.5, 1.0, 'Percentage of Michelin starred restaurant')"
      ]
     },
     "execution_count": 723,
     "metadata": {},
     "output_type": "execute_result"
    },
    {
     "data": {
      "image/png": "[encoded data removed]",
      "text/plain": [
       "<Figure size 720x720 with 1 Axes>"
      ]
     },
     "metadata": {},
     "output_type": "display_data"
    }
   ],
   "source": [
    "michelin_perc_df = df_parisCuisine[df_parisCuisine['Michelin'] == 'yes']\n",
    "michelin_perc_df = michelin_perc_df[['Neighborhood', 'Michelin']]\n",
    "michelin_perc_df = michelin_perc_df.groupby(['Neighborhood'],as_index=False).count()\n",
    "\n",
    "sns.set(rc={'figure.figsize':(30,20),\"font.size\":20,\"axes.titlesize\":20,\"axes.labelsize\":60})\n",
    "ax = michelin_perc_df['Michelin'].plot(kind='pie',\n",
    "                            figsize=(10, 10),\n",
    "                            autopct='%1.1f%%', \n",
    "                            #fontsize=10,\n",
    "                            startangle=90,    \n",
    "                            shadow=True,       \n",
    "                            labels=michelin_perc_df['Neighborhood']\n",
    "                            )\n",
    "\n",
    "ax.set_ylabel('')\n",
    "ax.set_title('Percentage of Michelin starred restaurant')"
   ]
  },
  {
   "cell_type": "markdown",
   "metadata": {},
   "source": [
    "## Part 5 Clustering for Restaurant Data"
   ]
  },
  {
   "cell_type": "markdown",
   "metadata": {},
   "source": [
    "### 5.1 Binning rating"
   ]
  },
  {
   "cell_type": "code",
   "execution_count": 730,
   "metadata": {},
   "outputs": [
    {
     "data": {
      "text/html": [
       "<div>\n",
       "<style scoped>\n",
       "    .dataframe tbody tr th:only-of-type {\n",
       "        vertical-align: middle;\n",
       "    }\n",
       "\n",
       "    .dataframe tbody tr th {\n",
       "        vertical-align: top;\n",
       "    }\n",
       "\n",
       "    .dataframe thead th {\n",
       "        text-align: right;\n",
       "    }\n",
       "</style>\n",
       "<table border=\"1\" class=\"dataframe\">\n",
       "  <thead>\n",
       "    <tr style=\"text-align: right;\">\n",
       "      <th></th>\n",
       "      <th>Neighborhood</th>\n",
       "      <th>Neighborhood Latitude</th>\n",
       "      <th>Neighborhood Longitude</th>\n",
       "      <th>Venue Latitude</th>\n",
       "      <th>Venue Longitude</th>\n",
       "      <th>Name</th>\n",
       "      <th>Price Range</th>\n",
       "      <th>Review</th>\n",
       "      <th>Michelin</th>\n",
       "      <th>Rate</th>\n",
       "    </tr>\n",
       "  </thead>\n",
       "  <tbody>\n",
       "    <tr>\n",
       "      <th>0</th>\n",
       "      <td>Louvre</td>\n",
       "      <td>48.8625627018</td>\n",
       "      <td>2.33644336205</td>\n",
       "      <td>48.863150</td>\n",
       "      <td>2.336550</td>\n",
       "      <td>Le Nemours</td>\n",
       "      <td>Moderate</td>\n",
       "      <td>3.97</td>\n",
       "      <td>no</td>\n",
       "      <td>8</td>\n",
       "    </tr>\n",
       "    <tr>\n",
       "      <th>1</th>\n",
       "      <td>Louvre</td>\n",
       "      <td>48.8625627018</td>\n",
       "      <td>2.33644336205</td>\n",
       "      <td>48.860341</td>\n",
       "      <td>2.340647</td>\n",
       "      <td>Le Fumoir</td>\n",
       "      <td>Moderate</td>\n",
       "      <td>3.99</td>\n",
       "      <td>no</td>\n",
       "      <td>8</td>\n",
       "    </tr>\n",
       "    <tr>\n",
       "      <th>2</th>\n",
       "      <td>Louvre</td>\n",
       "      <td>48.8625627018</td>\n",
       "      <td>2.33644336205</td>\n",
       "      <td>48.864713</td>\n",
       "      <td>2.334059</td>\n",
       "      <td>Sanukiya</td>\n",
       "      <td>Moderate</td>\n",
       "      <td>4.48</td>\n",
       "      <td>no</td>\n",
       "      <td>9</td>\n",
       "    </tr>\n",
       "    <tr>\n",
       "      <th>3</th>\n",
       "      <td>Louvre</td>\n",
       "      <td>48.8625627018</td>\n",
       "      <td>2.33644336205</td>\n",
       "      <td>48.865523</td>\n",
       "      <td>2.340365</td>\n",
       "      <td>Bistrot Victoires</td>\n",
       "      <td>Low</td>\n",
       "      <td>3.99</td>\n",
       "      <td>no</td>\n",
       "      <td>8</td>\n",
       "    </tr>\n",
       "    <tr>\n",
       "      <th>4</th>\n",
       "      <td>Bourse</td>\n",
       "      <td>48.8682792225</td>\n",
       "      <td>2.34280254689</td>\n",
       "      <td>48.865523</td>\n",
       "      <td>2.340365</td>\n",
       "      <td>Bistrot Victoires</td>\n",
       "      <td>Low</td>\n",
       "      <td>3.99</td>\n",
       "      <td>no</td>\n",
       "      <td>8</td>\n",
       "    </tr>\n",
       "  </tbody>\n",
       "</table>\n",
       "</div>"
      ],
      "text/plain": [
       "  Neighborhood Neighborhood Latitude Neighborhood Longitude  Venue Latitude  \\\n",
       "0       Louvre         48.8625627018          2.33644336205       48.863150   \n",
       "1       Louvre         48.8625627018          2.33644336205       48.860341   \n",
       "2       Louvre         48.8625627018          2.33644336205       48.864713   \n",
       "3       Louvre         48.8625627018          2.33644336205       48.865523   \n",
       "4       Bourse         48.8682792225          2.34280254689       48.865523   \n",
       "\n",
       "   Venue Longitude               Name Price Range  Review Michelin  Rate  \n",
       "0         2.336550         Le Nemours    Moderate    3.97       no     8  \n",
       "1         2.340647          Le Fumoir    Moderate    3.99       no     8  \n",
       "2         2.334059           Sanukiya    Moderate    4.48       no     9  \n",
       "3         2.340365  Bistrot Victoires         Low    3.99       no     8  \n",
       "4         2.340365  Bistrot Victoires         Low    3.99       no     8  "
      ]
     },
     "execution_count": 730,
     "metadata": {},
     "output_type": "execute_result"
    }
   ],
   "source": [
    "bins = [0, 0.5, 1, 1.5, 2, 2.5, 3, 3.5, 4, 4.5, 5]\n",
    "df_binned = np.searchsorted(bins, df_parisCuisine['Review'].values)\n",
    "df_parisCuisine['Rate'] = df_binned\n",
    "df_parisCuisine.head()"
   ]
  },
  {
   "cell_type": "markdown",
   "metadata": {},
   "source": [
    "### 5.2 Re-encode dataset for clustering"
   ]
  },
  {
   "cell_type": "code",
   "execution_count": 731,
   "metadata": {},
   "outputs": [
    {
     "data": {
      "text/html": [
       "<div>\n",
       "<style scoped>\n",
       "    .dataframe tbody tr th:only-of-type {\n",
       "        vertical-align: middle;\n",
       "    }\n",
       "\n",
       "    .dataframe tbody tr th {\n",
       "        vertical-align: top;\n",
       "    }\n",
       "\n",
       "    .dataframe thead th {\n",
       "        text-align: right;\n",
       "    }\n",
       "</style>\n",
       "<table border=\"1\" class=\"dataframe\">\n",
       "  <thead>\n",
       "    <tr style=\"text-align: right;\">\n",
       "      <th></th>\n",
       "      <th>Neighborhood</th>\n",
       "      <th>Price Range</th>\n",
       "      <th>Michelin</th>\n",
       "      <th>Rate</th>\n",
       "    </tr>\n",
       "  </thead>\n",
       "  <tbody>\n",
       "    <tr>\n",
       "      <th>0</th>\n",
       "      <td>Louvre</td>\n",
       "      <td>Moderate</td>\n",
       "      <td>no</td>\n",
       "      <td>8</td>\n",
       "    </tr>\n",
       "    <tr>\n",
       "      <th>1</th>\n",
       "      <td>Louvre</td>\n",
       "      <td>Moderate</td>\n",
       "      <td>no</td>\n",
       "      <td>8</td>\n",
       "    </tr>\n",
       "    <tr>\n",
       "      <th>2</th>\n",
       "      <td>Louvre</td>\n",
       "      <td>Moderate</td>\n",
       "      <td>no</td>\n",
       "      <td>9</td>\n",
       "    </tr>\n",
       "    <tr>\n",
       "      <th>3</th>\n",
       "      <td>Louvre</td>\n",
       "      <td>Low</td>\n",
       "      <td>no</td>\n",
       "      <td>8</td>\n",
       "    </tr>\n",
       "    <tr>\n",
       "      <th>4</th>\n",
       "      <td>Bourse</td>\n",
       "      <td>Low</td>\n",
       "      <td>no</td>\n",
       "      <td>8</td>\n",
       "    </tr>\n",
       "  </tbody>\n",
       "</table>\n",
       "</div>"
      ],
      "text/plain": [
       "  Neighborhood Price Range Michelin  Rate\n",
       "0       Louvre    Moderate       no     8\n",
       "1       Louvre    Moderate       no     8\n",
       "2       Louvre    Moderate       no     9\n",
       "3       Louvre         Low       no     8\n",
       "4       Bourse         Low       no     8"
      ]
     },
     "execution_count": 731,
     "metadata": {},
     "output_type": "execute_result"
    }
   ],
   "source": [
    "df_parisCluster = df_parisCuisine[['Neighborhood', 'Price Range', 'Michelin', 'Rate']]\n",
    "df_parisCluster.head()"
   ]
  },
  {
   "cell_type": "code",
   "execution_count": 735,
   "metadata": {
    "scrolled": false
   },
   "outputs": [
    {
     "data": {
      "text/html": [
       "<div>\n",
       "<style scoped>\n",
       "    .dataframe tbody tr th:only-of-type {\n",
       "        vertical-align: middle;\n",
       "    }\n",
       "\n",
       "    .dataframe tbody tr th {\n",
       "        vertical-align: top;\n",
       "    }\n",
       "\n",
       "    .dataframe thead th {\n",
       "        text-align: right;\n",
       "    }\n",
       "</style>\n",
       "<table border=\"1\" class=\"dataframe\">\n",
       "  <thead>\n",
       "    <tr style=\"text-align: right;\">\n",
       "      <th></th>\n",
       "      <th>Neighborhood</th>\n",
       "      <th>Rate</th>\n",
       "      <th>Price Range_High</th>\n",
       "      <th>Price Range_Low</th>\n",
       "      <th>Price Range_Moderate</th>\n",
       "      <th>Michelin_no</th>\n",
       "      <th>Michelin_yes</th>\n",
       "    </tr>\n",
       "  </thead>\n",
       "  <tbody>\n",
       "    <tr>\n",
       "      <th>0</th>\n",
       "      <td>Batignolles-Monceau</td>\n",
       "      <td>8.625000</td>\n",
       "      <td>0.000000</td>\n",
       "      <td>0.125000</td>\n",
       "      <td>0.875000</td>\n",
       "      <td>1.000000</td>\n",
       "      <td>0.000000</td>\n",
       "    </tr>\n",
       "    <tr>\n",
       "      <th>1</th>\n",
       "      <td>Bourse</td>\n",
       "      <td>7.666667</td>\n",
       "      <td>0.055556</td>\n",
       "      <td>0.277778</td>\n",
       "      <td>0.666667</td>\n",
       "      <td>1.000000</td>\n",
       "      <td>0.000000</td>\n",
       "    </tr>\n",
       "    <tr>\n",
       "      <th>2</th>\n",
       "      <td>Buttes-Chaumont</td>\n",
       "      <td>7.666667</td>\n",
       "      <td>0.000000</td>\n",
       "      <td>0.166667</td>\n",
       "      <td>0.833333</td>\n",
       "      <td>1.000000</td>\n",
       "      <td>0.000000</td>\n",
       "    </tr>\n",
       "    <tr>\n",
       "      <th>3</th>\n",
       "      <td>Buttes-Montmartre</td>\n",
       "      <td>8.333333</td>\n",
       "      <td>0.066667</td>\n",
       "      <td>0.000000</td>\n",
       "      <td>0.933333</td>\n",
       "      <td>1.000000</td>\n",
       "      <td>0.000000</td>\n",
       "    </tr>\n",
       "    <tr>\n",
       "      <th>4</th>\n",
       "      <td>Entrepôt</td>\n",
       "      <td>8.153846</td>\n",
       "      <td>0.000000</td>\n",
       "      <td>0.230769</td>\n",
       "      <td>0.769231</td>\n",
       "      <td>1.000000</td>\n",
       "      <td>0.000000</td>\n",
       "    </tr>\n",
       "    <tr>\n",
       "      <th>5</th>\n",
       "      <td>Gobelins</td>\n",
       "      <td>7.428571</td>\n",
       "      <td>0.000000</td>\n",
       "      <td>0.428571</td>\n",
       "      <td>0.571429</td>\n",
       "      <td>1.000000</td>\n",
       "      <td>0.000000</td>\n",
       "    </tr>\n",
       "    <tr>\n",
       "      <th>6</th>\n",
       "      <td>Hôtel-de-Ville</td>\n",
       "      <td>7.625000</td>\n",
       "      <td>0.000000</td>\n",
       "      <td>0.125000</td>\n",
       "      <td>0.875000</td>\n",
       "      <td>1.000000</td>\n",
       "      <td>0.000000</td>\n",
       "    </tr>\n",
       "    <tr>\n",
       "      <th>7</th>\n",
       "      <td>Louvre</td>\n",
       "      <td>7.923077</td>\n",
       "      <td>0.076923</td>\n",
       "      <td>0.384615</td>\n",
       "      <td>0.538462</td>\n",
       "      <td>1.000000</td>\n",
       "      <td>0.000000</td>\n",
       "    </tr>\n",
       "    <tr>\n",
       "      <th>8</th>\n",
       "      <td>Luxembourg</td>\n",
       "      <td>7.823529</td>\n",
       "      <td>0.000000</td>\n",
       "      <td>0.058824</td>\n",
       "      <td>0.941176</td>\n",
       "      <td>1.000000</td>\n",
       "      <td>0.000000</td>\n",
       "    </tr>\n",
       "    <tr>\n",
       "      <th>9</th>\n",
       "      <td>Ménilmontant</td>\n",
       "      <td>8.500000</td>\n",
       "      <td>0.000000</td>\n",
       "      <td>0.500000</td>\n",
       "      <td>0.500000</td>\n",
       "      <td>1.000000</td>\n",
       "      <td>0.000000</td>\n",
       "    </tr>\n",
       "    <tr>\n",
       "      <th>10</th>\n",
       "      <td>Observatoire</td>\n",
       "      <td>8.400000</td>\n",
       "      <td>0.000000</td>\n",
       "      <td>0.000000</td>\n",
       "      <td>1.000000</td>\n",
       "      <td>1.000000</td>\n",
       "      <td>0.000000</td>\n",
       "    </tr>\n",
       "    <tr>\n",
       "      <th>11</th>\n",
       "      <td>Opéra</td>\n",
       "      <td>8.100000</td>\n",
       "      <td>0.000000</td>\n",
       "      <td>0.300000</td>\n",
       "      <td>0.700000</td>\n",
       "      <td>1.000000</td>\n",
       "      <td>0.000000</td>\n",
       "    </tr>\n",
       "    <tr>\n",
       "      <th>12</th>\n",
       "      <td>Palais-Bourbon</td>\n",
       "      <td>8.052632</td>\n",
       "      <td>0.157895</td>\n",
       "      <td>0.105263</td>\n",
       "      <td>0.736842</td>\n",
       "      <td>0.947368</td>\n",
       "      <td>0.052632</td>\n",
       "    </tr>\n",
       "    <tr>\n",
       "      <th>13</th>\n",
       "      <td>Panthéon</td>\n",
       "      <td>7.833333</td>\n",
       "      <td>0.083333</td>\n",
       "      <td>0.166667</td>\n",
       "      <td>0.750000</td>\n",
       "      <td>1.000000</td>\n",
       "      <td>0.000000</td>\n",
       "    </tr>\n",
       "    <tr>\n",
       "      <th>14</th>\n",
       "      <td>Popincourt</td>\n",
       "      <td>7.937500</td>\n",
       "      <td>0.000000</td>\n",
       "      <td>0.000000</td>\n",
       "      <td>1.000000</td>\n",
       "      <td>1.000000</td>\n",
       "      <td>0.000000</td>\n",
       "    </tr>\n",
       "    <tr>\n",
       "      <th>15</th>\n",
       "      <td>Temple</td>\n",
       "      <td>8.210526</td>\n",
       "      <td>0.052632</td>\n",
       "      <td>0.368421</td>\n",
       "      <td>0.578947</td>\n",
       "      <td>1.000000</td>\n",
       "      <td>0.000000</td>\n",
       "    </tr>\n",
       "    <tr>\n",
       "      <th>16</th>\n",
       "      <td>Vaugirard</td>\n",
       "      <td>8.083333</td>\n",
       "      <td>0.083333</td>\n",
       "      <td>0.000000</td>\n",
       "      <td>0.916667</td>\n",
       "      <td>1.000000</td>\n",
       "      <td>0.000000</td>\n",
       "    </tr>\n",
       "    <tr>\n",
       "      <th>17</th>\n",
       "      <td>Élysée</td>\n",
       "      <td>7.928571</td>\n",
       "      <td>0.500000</td>\n",
       "      <td>0.142857</td>\n",
       "      <td>0.357143</td>\n",
       "      <td>0.928571</td>\n",
       "      <td>0.071429</td>\n",
       "    </tr>\n",
       "  </tbody>\n",
       "</table>\n",
       "</div>"
      ],
      "text/plain": [
       "           Neighborhood      Rate  Price Range_High  Price Range_Low  \\\n",
       "0   Batignolles-Monceau  8.625000          0.000000         0.125000   \n",
       "1                Bourse  7.666667          0.055556         0.277778   \n",
       "2       Buttes-Chaumont  7.666667          0.000000         0.166667   \n",
       "3     Buttes-Montmartre  8.333333          0.066667         0.000000   \n",
       "4              Entrepôt  8.153846          0.000000         0.230769   \n",
       "5              Gobelins  7.428571          0.000000         0.428571   \n",
       "6        Hôtel-de-Ville  7.625000          0.000000         0.125000   \n",
       "7                Louvre  7.923077          0.076923         0.384615   \n",
       "8            Luxembourg  7.823529          0.000000         0.058824   \n",
       "9          Ménilmontant  8.500000          0.000000         0.500000   \n",
       "10         Observatoire  8.400000          0.000000         0.000000   \n",
       "11                Opéra  8.100000          0.000000         0.300000   \n",
       "12       Palais-Bourbon  8.052632          0.157895         0.105263   \n",
       "13             Panthéon  7.833333          0.083333         0.166667   \n",
       "14           Popincourt  7.937500          0.000000         0.000000   \n",
       "15               Temple  8.210526          0.052632         0.368421   \n",
       "16            Vaugirard  8.083333          0.083333         0.000000   \n",
       "17               Élysée  7.928571          0.500000         0.142857   \n",
       "\n",
       "    Price Range_Moderate  Michelin_no  Michelin_yes  \n",
       "0               0.875000     1.000000      0.000000  \n",
       "1               0.666667     1.000000      0.000000  \n",
       "2               0.833333     1.000000      0.000000  \n",
       "3               0.933333     1.000000      0.000000  \n",
       "4               0.769231     1.000000      0.000000  \n",
       "5               0.571429     1.000000      0.000000  \n",
       "6               0.875000     1.000000      0.000000  \n",
       "7               0.538462     1.000000      0.000000  \n",
       "8               0.941176     1.000000      0.000000  \n",
       "9               0.500000     1.000000      0.000000  \n",
       "10              1.000000     1.000000      0.000000  \n",
       "11              0.700000     1.000000      0.000000  \n",
       "12              0.736842     0.947368      0.052632  \n",
       "13              0.750000     1.000000      0.000000  \n",
       "14              1.000000     1.000000      0.000000  \n",
       "15              0.578947     1.000000      0.000000  \n",
       "16              0.916667     1.000000      0.000000  \n",
       "17              0.357143     0.928571      0.071429  "
      ]
     },
     "execution_count": 735,
     "metadata": {},
     "output_type": "execute_result"
    }
   ],
   "source": [
    "paris_onehot = pd.get_dummies(df_parisCluster[['Price Range', 'Michelin', 'Rate']])\n",
    "paris_onehot['Neighborhood'] = df_parisCluster['Neighborhood']\n",
    "\n",
    "paris_grouped = paris_onehot.groupby('Neighborhood').mean().reset_index()\n",
    "paris_grouped"
   ]
  },
  {
   "cell_type": "code",
   "execution_count": 738,
   "metadata": {},
   "outputs": [
    {
     "data": {
      "text/plain": [
       "(18, 6)"
      ]
     },
     "execution_count": 738,
     "metadata": {},
     "output_type": "execute_result"
    }
   ],
   "source": [
    "paris_grouped_clustering = paris_grouped.drop('Neighborhood', 1)\n",
    "paris_grouped_clustering.shape"
   ]
  },
  {
   "cell_type": "markdown",
   "metadata": {},
   "source": [
    "### 5.3 Determine k for k-means"
   ]
  },
  {
   "cell_type": "code",
   "execution_count": 761,
   "metadata": {},
   "outputs": [
    {
     "data": {
      "image/png": "[encoded data removed]",
      "text/plain": [
       "<Figure size 576x396 with 2 Axes>"
      ]
     },
     "metadata": {},
     "output_type": "display_data"
    }
   ],
   "source": [
    "from sklearn.cluster import KMeans\n",
    "from yellowbrick.cluster import KElbowVisualizer\n",
    "\n",
    "# Instantiate the clustering model and visualizer\n",
    "model = KMeans()\n",
    "visualizer = KElbowVisualizer(model, k=(3,10))\n",
    "visualizer.fit(paris_grouped_clustering)    # Fit the data to the visualizer\n",
    "visualizer.poof()    # Draw/show/poof the data"
   ]
  },
  {
   "cell_type": "markdown",
   "metadata": {},
   "source": [
    "let's take k=6"
   ]
  },
  {
   "cell_type": "markdown",
   "metadata": {},
   "source": [
    "### Clustering the data"
   ]
  },
  {
   "cell_type": "code",
   "execution_count": null,
   "metadata": {},
   "outputs": [],
   "source": []
  }
 ],
 "metadata": {
  "kernelspec": {
   "display_name": "Python 3",
   "language": "python",
   "name": "python3"
  },
  "language_info": {
   "codemirror_mode": {
    "name": "ipython",
    "version": 3
   },
   "file_extension": ".py",
   "mimetype": "text/x-python",
   "name": "python",
   "nbconvert_exporter": "python",
   "pygments_lexer": "ipython3",
   "version": "3.7.3"
  }
 },
 "nbformat": 4,
 "nbformat_minor": 2
}
